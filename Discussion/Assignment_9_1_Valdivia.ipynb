{
 "cells": [
  {
   "cell_type": "code",
   "execution_count": 12,
   "metadata": {},
   "outputs": [
    {
     "name": "stdout",
     "output_type": "stream",
     "text": [
      "Here are the best website results on google.com\n",
      "https://www.weather.com/wx/today/?lat=-12.05&lon=-77.04&locale=en_US&par=google\n",
      "\n",
      "https://weatherspark.com/y/20441/Average-Weather-in-Lima-Peru-Year-Round\n",
      "\n",
      "https://www.timeanddate.com/weather/peru/lima/ext\n",
      "\n",
      "https://www.climatestotravel.com/climate/peru/lima\n",
      "\n",
      "https://www.climatestotravel.com/climate/peru/lima#january\n",
      "\n",
      "Temperature in Lima is: 76°F ,  24°C\n"
     ]
    }
   ],
   "source": [
    "'''\n",
    "Installation:\n",
    "\n",
    "google package has one dependency on beautifulsoup which needs to be installed first.  \n",
    "py -m pip install beautifulsoup4\n",
    "\n",
    "Then install the google package  \n",
    "py -m pip install google\n",
    "'''\n",
    "\n",
    "# query: query string that we want to search for.\n",
    "# TLD: TLD stands for the top-level domain which means we want to search our results on google.com or google. in or some other domain.\n",
    "# lang: lang stands for language.\n",
    "# num: Number of results we want.\n",
    "# start: The first result to retrieve.\n",
    "# stop: The last result to retrieve. Use None to keep searching forever.\n",
    "# pause: Lapse to wait between HTTP requests. Lapse too short may cause Google to block your IP. Keeping significant lapses will make your program slow but it’s a safe and better option.\n",
    "# Return: Generator (iterator) that yields found URLs. If the stop parameter is None the iterator will loop forever.\n",
    "\n",
    "try:\n",
    "    from googlesearch import search\n",
    "except ImportError:\n",
    "    print(\"No module named 'google' found\")\n",
    " \n",
    "user_city = input(\"What city would you like to know its temperature?\")\n",
    "# to search\n",
    "query = \"Temperature of \" + user_city\n",
    "\n",
    "print(\"Here are the best website results on google.com\")\n",
    "for j in search(query, tld=\"co.in\", num=5, stop=5, pause=2):\n",
    "    print(j)\n",
    "    print()\n",
    "\n",
    "\n",
    "# Retrieve Temperature from the link\n",
    "# import module\n",
    "import requests \n",
    "import bs4 \n",
    "  \n",
    "# Generating the url from Google Weather in real-time\n",
    "url = \"https://google.com/search?q=weather+in+\" + user_city\n",
    "  \n",
    "# Sending HTTP request \n",
    "request_result = requests.get( url )\n",
    "  \n",
    "# Pulling HTTP data from internet \n",
    "soup = bs4.BeautifulSoup( request_result.text , \"html.parser\" )\n",
    "  \n",
    "# Finding temperature in Farenheit.\n",
    "# The temperature is stored inside the class \"BNeawe\". \n",
    "temp_F = soup.find( \"div\" , class_='BNeawe' ).text\n",
    "\n",
    "# Temperature in Celsius\n",
    "import math\n",
    "temp_C = int(temp_F[0:2])\n",
    "temp_C = (temp_C - 32) * (5/9)\n",
    "temp_C = math.floor(temp_C)\n",
    "\n",
    "# Print results\n",
    "print(\"Temperature in\", user_city, \"is:\", temp_F, \", \", f\"{temp_C}°C\" ) \n"
   ]
  }
 ],
 "metadata": {
  "interpreter": {
   "hash": "0a477e406acbd2e5d181cdd122dfb51ff73acdf0b608e3a81bbfb62ac2a7a365"
  },
  "kernelspec": {
   "display_name": "Python 3.10.2 64-bit",
   "language": "python",
   "name": "python3"
  },
  "language_info": {
   "codemirror_mode": {
    "name": "ipython",
    "version": 3
   },
   "file_extension": ".py",
   "mimetype": "text/x-python",
   "name": "python",
   "nbconvert_exporter": "python",
   "pygments_lexer": "ipython3",
   "version": "3.10.2"
  },
  "orig_nbformat": 4
 },
 "nbformat": 4,
 "nbformat_minor": 2
}
