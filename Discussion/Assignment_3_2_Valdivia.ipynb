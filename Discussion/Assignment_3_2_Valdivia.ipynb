{
 "cells": [
  {
   "cell_type": "code",
   "execution_count": 17,
   "metadata": {},
   "outputs": [
    {
     "name": "stdout",
     "output_type": "stream",
     "text": [
      "Sequence generator\n",
      "The sequence is [100, 95, 90, 85, 80, 75, 70, 65, 60, 55, 50, 45, 40, 35, 30, 25, 20, 15, 10, 5]\n"
     ]
    }
   ],
   "source": [
    "# Assignment_3_2\n",
    "# Author: Jose A Valdivia Rojas\n",
    "# CMSC 206\n",
    "# Prof. Gary Thai\n",
    "\n",
    "# Assignment description: Write Python code to generate a sequence of 20 numbers, such as [100, 95, 90 .. 5]\n",
    "import math\n",
    "\n",
    "print(\"-----------------Sequence Generator-----------------\")\n",
    "starting = int(input(\"Choose a number to start:\"))\n",
    "count = int(input(\"Counts in:\"))\n",
    "count = int(math.copysign(count, -1))   # Built-in function to return a number with a copied sign of another number, this is to ensure the sequence will be decreasing\n",
    "list = []   # A list to store the numbers of the sequence\n",
    "\n",
    "for x in range(starting,0,count):\n",
    "    list.append(x)\n",
    "print(\"The sequence is\",list)\n",
    "\n"
   ]
  }
 ],
 "metadata": {
  "interpreter": {
   "hash": "0a477e406acbd2e5d181cdd122dfb51ff73acdf0b608e3a81bbfb62ac2a7a365"
  },
  "kernelspec": {
   "display_name": "Python 3.10.2 64-bit",
   "language": "python",
   "name": "python3"
  },
  "language_info": {
   "codemirror_mode": {
    "name": "ipython",
    "version": 3
   },
   "file_extension": ".py",
   "mimetype": "text/x-python",
   "name": "python",
   "nbconvert_exporter": "python",
   "pygments_lexer": "ipython3",
   "version": "3.10.2"
  },
  "orig_nbformat": 4
 },
 "nbformat": 4,
 "nbformat_minor": 2
}
