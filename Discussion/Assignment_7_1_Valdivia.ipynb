{
 "cells": [
  {
   "cell_type": "code",
   "execution_count": 48,
   "metadata": {},
   "outputs": [
    {
     "name": "stdout",
     "output_type": "stream",
     "text": [
      "[('10-Jun-2014', 28.13, 52, 'MTNB', 0.79), ('18-Apr-2013', 52.43, 10, 'BERY', 38.38), ('23-Apr-2013', 73.53, 53, 'SIRI', 106.7), ('21-Feb-2012', 32.67, 20, 'BMA', 13.46), ('01-Feb-2005', 78.83, 75, 'ADT', 99.91), ('08-Sep-2012', 29.12, 7, 'ZNGA', 80.81), ('29-Mar-2008', 86.51, 21, 'BOOM', 40.5), ('17-May-2008', 22.19, 21, 'CNTY', 103.1), ('21-Sep-2019', 44.21, 86, 'NOK', 84.11), ('04-Feb-2008', 62.66, 95, 'NMR', 35.98), ('17-Oct-2018', 36.14, 100, 'URBN', 40.96), ('19-Jan-2018', 110.59, 200, 'DIS', 177.34)]\n",
      "\n",
      "\n",
      "The overall cost of the portfolio is $50423.1\n",
      "\n",
      "1. The MTNB stock is currently $0.79\n",
      "2. You purchased an amount of $1462.76 \n",
      "3. The current price is $41.08\n",
      "4. You lost an amount of $13350.0\n"
     ]
    }
   ],
   "source": [
    "# Jose A Valdivia Rojas\n",
    "# CMSC 206\n",
    "# Discussion 7.1\n",
    "\n",
    "# Implement a function to determine the overall (total purchased price) cost of the portfolio\n",
    "# running total of shares x purchased price of each stock of the block\n",
    "def overall(a_portfolio):\n",
    "    total_purchase = 0\n",
    "    for (date, price, share, symbol, current_price) in a_portfolio:\n",
    "        total_purchase += price * share\n",
    "\n",
    "    return round(total_purchase,2)\n",
    "\n",
    "\n",
    "# Implement another function to determine the total price (cost) of a specific stock\n",
    "def total_price(stock, a_portfolio):\n",
    "\n",
    "    for i in range(len(a_portfolio)):\n",
    "        if a_portfolio[i][3] == stock:\n",
    "            total_price = a_portfolio[i][4]\n",
    "            total_price = round(float(total_price), 2)     # Round float number into 2 decimal places\n",
    "    return total_price\n",
    "\n",
    "def total_purchased(stock, a_portfolio):\n",
    "    for i in range(len(a_portfolio)):\n",
    "        if a_portfolio[i][3] == stock:\n",
    "            purchased = a_portfolio[i][1]\n",
    "            shares = a_portfolio[i][2]\n",
    "            total_purchased = purchased * shares\n",
    "            total_purchased = round(float(total_purchased), 2)     # Round float number into 2 decimal places\n",
    "    return total_purchased, shares\n",
    "\n",
    "# Process the attached file, Stocks.csv, and create a portfolio as described.  \n",
    "# (Date format should be MM/DD/YY instead)\n",
    "from datetime import datetime\n",
    "\n",
    "portfolio = list()\n",
    "with open(\"Stocks.csv\", 'r') as csv_file:\n",
    "    \n",
    "    row = 0\n",
    "    for eachLine in csv_file:\n",
    "        if row == 0:  # To avoid the first row\n",
    "            row += 1\n",
    "            continue\n",
    "\n",
    "        (purchased_date, purchased_price, share, symbol, current_price) = eachLine.strip().split(\",\")\n",
    "        \n",
    "        # Format the date\n",
    "        purchased_date = purchased_date.replace('/', '-')\n",
    "        datetime_obj= datetime.strptime(purchased_date, \"%m-%d-%Y\")     # Convert the string into datetime object\n",
    "        purchased_date = datetime_obj.strftime(\"%d-%b-%Y\")         # Format the time in Day-Month-Year.\n",
    "\n",
    "        # Format shares\n",
    "        share = int(share)\n",
    "\n",
    "\n",
    "        # Format prices\n",
    "        purchased_price = float(purchased_price.replace('$', '').strip())\n",
    "        current_price = float(current_price.replace('$', '').strip())\n",
    "\n",
    "        # Add tuples to the portfolio(list)\n",
    "        portfolio.append((purchased_date, purchased_price, share, symbol, current_price))\n",
    "\n",
    "        row += 1\n",
    "\n",
    "# Output\n",
    "print (f\"\\n\\nThe overall cost of the portfolio is ${overall(portfolio)}\")\n",
    "user_stock = input(\"What stock would you like to search for?\").upper()\n",
    "print(f\"\\n1. The {user_stock} stock is currently ${total_price(user_stock, portfolio)}\")\n",
    "(purchased, shares) = total_purchased(user_stock, portfolio)\n",
    "print(f\"2. You purchased an amount of ${purchased} \")\n",
    "print(f\"3. The current total price is ${total_price(user_stock, portfolio) * shares}\")\n",
    "\n",
    "if (total_price(user_stock, portfolio) * shares) - purchased >= 0:\n",
    "\n",
    "    profit = (total_price(user_stock, portfolio) * shares) - purchased\n",
    "    print(f\"4. You gain a profit of ${profit}\")\n",
    "else:\n",
    "    profit = abs(profit)\n",
    "    print(f\"4. You lost an amount of ${profit}\")\n",
    "\n"
   ]
  },
  {
   "cell_type": "code",
   "execution_count": 49,
   "metadata": {},
   "outputs": [
    {
     "name": "stdout",
     "output_type": "stream",
     "text": [
      "[('Purchased Date', ' Purchased Price ', 'Shares', 'Symbol', 'Current Price'), ('6/10/2014', '$28.13 ', '52', 'MTNB', '$0.79 '), ('4/18/2013', '$52.43 ', '10', 'BERY', '$38.38 '), ('4/23/2013', '$73.53 ', '53', 'SIRI', '$106.70 '), ('2/21/2012', '$32.67 ', '20', 'BMA', '$13.46 '), ('2/1/2005', '$78.83 ', '75', 'ADT', '$99.91 '), ('9/8/2012', '$29.12 ', '7', 'ZNGA', '$80.81 '), ('3/29/2008', '$86.51 ', '21', 'BOOM', '$40.50 '), ('5/17/2008', '$22.19 ', '21', 'CNTY', '$103.10 '), ('9/21/2019', '$44.21 ', '86', 'NOK', '$84.11 '), ('2/4/2008', '$62.66 ', '95', 'NMR', '$35.98 '), ('10/17/2018', '$36.14 ', '100', 'URBN', '$40.96 '), ('1/19/2018', '$110.59 ', '200', 'DIS', '$177.34 ')]\n"
     ]
    }
   ],
   "source": [
    "from csv import reader\n",
    "# open file in read mode\n",
    "with open('Stocks.csv', 'r') as read_obj:\n",
    "    # pass the file object to reader() to get the reader object\n",
    "    csv_reader = reader(read_obj)\n",
    "    # Get all rows of csv from csv_reader object as list of tuples\n",
    "    list_of_tuples = list(map(tuple, csv_reader))\n",
    "    # display all rows of csv\n",
    "    print(list_of_tuples)"
   ]
  }
 ],
 "metadata": {
  "interpreter": {
   "hash": "0a477e406acbd2e5d181cdd122dfb51ff73acdf0b608e3a81bbfb62ac2a7a365"
  },
  "kernelspec": {
   "display_name": "Python 3.10.2 64-bit",
   "language": "python",
   "name": "python3"
  },
  "language_info": {
   "codemirror_mode": {
    "name": "ipython",
    "version": 3
   },
   "file_extension": ".py",
   "mimetype": "text/x-python",
   "name": "python",
   "nbconvert_exporter": "python",
   "pygments_lexer": "ipython3",
   "version": "3.10.2"
  },
  "orig_nbformat": 4
 },
 "nbformat": 4,
 "nbformat_minor": 2
}
