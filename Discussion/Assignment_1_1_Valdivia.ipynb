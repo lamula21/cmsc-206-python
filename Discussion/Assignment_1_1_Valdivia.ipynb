{
  "nbformat": 4,
  "nbformat_minor": 0,
  "metadata": {
    "colab": {
      "name": "Valdivia_Assignment_1.1",
      "provenance": [],
      "collapsed_sections": []
    },
    "kernelspec": {
      "name": "python3",
      "display_name": "Python 3"
    },
    "language_info": {
      "name": "python"
    }
  },
  "cells": [
    {
      "cell_type": "code",
      "source": [
        "# Author: Jose Valdivia Rojas\n",
        "# Course: CMSC 206\n",
        "# Assignment 1.1"
      ],
      "metadata": {
        "id": "gFHNQUaEOABx"
      },
      "execution_count": null,
      "outputs": []
    },
    {
      "cell_type": "code",
      "execution_count": 1,
      "metadata": {
        "colab": {
          "base_uri": "https://localhost:8080/"
        },
        "id": "zL934aBTE4fV",
        "outputId": "5a379368-97e1-4d60-8e84-1369af996c21"
      },
      "outputs": [
        {
          "output_type": "stream",
          "name": "stdout",
          "text": [
            "Welcome to Python!\n"
          ]
        }
      ],
      "source": [
        "print(\"Welcome to Python!\")"
      ]
    },
    {
      "cell_type": "code",
      "source": [
        "# Arithmetic Operator\n",
        "num1 = 1\n",
        "num2 = 10.5\n",
        "total = num1 + num2\n",
        "print(total)"
      ],
      "metadata": {
        "colab": {
          "base_uri": "https://localhost:8080/"
        },
        "id": "Wfh5YHo7K4Dw",
        "outputId": "b45e9a98-d55f-4657-fd47-8b6a816f5e0a"
      },
      "execution_count": 7,
      "outputs": [
        {
          "output_type": "stream",
          "name": "stdout",
          "text": [
            "11.5\n"
          ]
        }
      ]
    },
    {
      "cell_type": "code",
      "source": [
        "# Strings\n",
        "fname = \"Jose\"\n",
        "lastname = \"Valdivia\"\n",
        "fullname = fname + \" \" + lastname\n",
        "print(fullname)"
      ],
      "metadata": {
        "colab": {
          "base_uri": "https://localhost:8080/"
        },
        "id": "0QoXngwyN_Wb",
        "outputId": "e86d828f-24a5-4c1f-cd96-5a92a1cd18d8"
      },
      "execution_count": 6,
      "outputs": [
        {
          "output_type": "stream",
          "name": "stdout",
          "text": [
            "Jose Valdivia\n"
          ]
        }
      ]
    },
    {
      "cell_type": "code",
      "source": [
        "# Logical Operator\n",
        "o1 = True\n",
        "o2 = False\n",
        "print(o1 and o2)\n",
        "\n",
        "print(o1 or o2)\n",
        "\n",
        "print(not(o1))"
      ],
      "metadata": {
        "colab": {
          "base_uri": "https://localhost:8080/"
        },
        "id": "MMMuubq7PZOJ",
        "outputId": "f008d8f9-bbcc-4fb5-93b8-a02789965f08"
      },
      "execution_count": 5,
      "outputs": [
        {
          "output_type": "stream",
          "name": "stdout",
          "text": [
            "False\n",
            "True\n",
            "False\n"
          ]
        }
      ]
    },
    {
      "cell_type": "code",
      "source": [
        "# Assignment Operator\n",
        "n1 = 4\n",
        "n2 = 2\n",
        "\n",
        "n1 += n2\n",
        "print(\"n1 += n2 is\", n1)\n",
        "n1 = 4\n",
        "\n",
        "n1 -= n2\n",
        "print(\"n1 -= n2 is\", n1)\n",
        "n1 = 4\n",
        "\n",
        "n1 *= n2\n",
        "print(\"n1 *= n2 is\", n1)\n",
        "n1 = 4\n",
        "\n",
        "n1 /= n2\n",
        "print(\"n1 /= n2 is\", n1)"
      ],
      "metadata": {
        "colab": {
          "base_uri": "https://localhost:8080/"
        },
        "id": "hQUQQJqPSC0H",
        "outputId": "e4cd49dd-8c08-4b45-de4c-24c1acb92ba2"
      },
      "execution_count": 12,
      "outputs": [
        {
          "output_type": "stream",
          "name": "stdout",
          "text": [
            "n1 += n2 is 6\n",
            "n1 -= n2 is 2\n",
            "n1 *= n2 is 8\n",
            "n1 /= n2 is 2.0\n"
          ]
        }
      ]
    },
    {
      "cell_type": "code",
      "source": [
        "# Comparison Operators\n",
        "n1 = 10\n",
        "n2 = 5\n",
        "\n",
        "print(\"n1 == n2 is\", n1 == n2)\n",
        "print(\"n1 != n2 is\", n1 != n2)\n",
        "print(\"n1 > n2 is\", n1 > n2)\n",
        "print(\"n1 < n2 is\", n1 < n2)\n",
        "print(\"n1 >= n2 is\", n1 >= n2)\n",
        "print(\"n1 <= n2 is\", n1 <= n2)"
      ],
      "metadata": {
        "colab": {
          "base_uri": "https://localhost:8080/"
        },
        "id": "cW4nQdvjTsEb",
        "outputId": "6591124b-7306-4dc7-90ec-ea5d0db765ec"
      },
      "execution_count": 13,
      "outputs": [
        {
          "output_type": "stream",
          "name": "stdout",
          "text": [
            "n1 == n2 is False\n",
            "n1 != n2 is True\n",
            "n1 > n2 is True\n",
            "n1 < n2 is False\n",
            "n1 >= n2 is True\n",
            "n1 <= n2 is False\n"
          ]
        }
      ]
    },
    {
      "cell_type": "code",
      "source": [
        "# Conditional Statements - If Statement\n",
        "age = 60\n",
        "\n",
        "if age >= 65:\n",
        "    print(\"You are eligible for priority treatment.\")\n",
        "\n",
        "print(\"Thank you for your visit\")"
      ],
      "metadata": {
        "colab": {
          "base_uri": "https://localhost:8080/"
        },
        "id": "ZhREPp36Uoql",
        "outputId": "ab0e68bc-33f2-43ef-ef26-76c496842114"
      },
      "execution_count": 18,
      "outputs": [
        {
          "output_type": "stream",
          "name": "stdout",
          "text": [
            "Thank you for your visit\n"
          ]
        }
      ]
    },
    {
      "cell_type": "code",
      "source": [
        "# If/Else Statements\n",
        "age = 55\n",
        "\n",
        "if age >=65:\n",
        "    print(\"You are eligible for priority treatment.\")\n",
        "else:\n",
        "    print(\"You are eligible for normal treatment\")\n",
        "\n",
        "print(\"\\nThank you for your visit\")"
      ],
      "metadata": {
        "colab": {
          "base_uri": "https://localhost:8080/"
        },
        "id": "V_wu5ZS-WbWG",
        "outputId": "7611a9e5-26b7-4a61-d228-27ff6cc7e729"
      },
      "execution_count": 21,
      "outputs": [
        {
          "output_type": "stream",
          "name": "stdout",
          "text": [
            "You are eligible for normal treatment\n",
            "\n",
            "Thank you for your visit\n"
          ]
        }
      ]
    },
    {
      "cell_type": "code",
      "source": [
        "# If/Elif Statment\n",
        "age = 10\n",
        "\n",
        "if age >= 65:\n",
        "    print(\"You are eligible for priority treatment.\")\n",
        "elif age > 18 and age < 65:\n",
        "    print(\"You are eligible for normal treatment\")\n",
        "else:\n",
        "    print(\"You are eligible for juvenile treatment\")\n",
        "\n",
        "print(\"Thank you for your visit\")"
      ],
      "metadata": {
        "colab": {
          "base_uri": "https://localhost:8080/"
        },
        "id": "vcFBsWNuW4Ky",
        "outputId": "f91d8767-43ec-4472-e4bc-45c9034013a5"
      },
      "execution_count": 23,
      "outputs": [
        {
          "output_type": "stream",
          "name": "stdout",
          "text": [
            "You are eligible for juvenile treatment\n",
            "Thank you for your visit\n"
          ]
        }
      ]
    },
    {
      "cell_type": "code",
      "source": [
        "# Nested If Else Statement\n",
        "age = 67\n",
        "insurance = \"yes\"\n",
        "\n",
        "if age >= 65:\n",
        "    print(\"You are eligible for priority treatment.\")\n",
        "    if insurance == \"yes\":\n",
        "        print(\"The insurance company will pay for you.\")\n",
        "    else:\n",
        "        print(\"You have to pay in advance.\")\n",
        "else:\n",
        "    print(\"You are eligble for normal treatment\")\n",
        "\n",
        "print(\"Thank you for your visit\")"
      ],
      "metadata": {
        "colab": {
          "base_uri": "https://localhost:8080/"
        },
        "id": "yX4SvBW4cCqe",
        "outputId": "2bf3ef4a-0b03-41c9-b15e-8459b5848fce"
      },
      "execution_count": 24,
      "outputs": [
        {
          "output_type": "stream",
          "name": "stdout",
          "text": [
            "You are eligible for priority treatment.\n",
            "The insurance company will pay for you.\n",
            "Thank you for your visit\n"
          ]
        }
      ]
    },
    {
      "cell_type": "code",
      "source": [
        "# Loops\n",
        "nums = [1, 2, 4, 5, 6, 7, 8, 9, 10]\n",
        "\n",
        "for n in nums:\n",
        "    print(5 * n)"
      ],
      "metadata": {
        "colab": {
          "base_uri": "https://localhost:8080/"
        },
        "id": "DuXd_l1mcYh0",
        "outputId": "1ee9637f-8d68-4a9e-ca34-4a8b56cfaeaf"
      },
      "execution_count": 25,
      "outputs": [
        {
          "output_type": "stream",
          "name": "stdout",
          "text": [
            "5\n",
            "10\n",
            "20\n",
            "25\n",
            "30\n",
            "35\n",
            "40\n",
            "45\n",
            "50\n"
          ]
        }
      ]
    },
    {
      "cell_type": "code",
      "source": [
        "# The While Loop\n",
        "x = 50\n",
        "\n",
        "while x > 0:\n",
        "    print(x)\n",
        "    x = x - 5"
      ],
      "metadata": {
        "colab": {
          "base_uri": "https://localhost:8080/"
        },
        "id": "dTcAxG2seAF5",
        "outputId": "f272d4cd-c790-4f62-db3b-eb1d2b59dba9"
      },
      "execution_count": 26,
      "outputs": [
        {
          "output_type": "stream",
          "name": "stdout",
          "text": [
            "50\n",
            "45\n",
            "40\n",
            "35\n",
            "30\n",
            "25\n",
            "20\n",
            "15\n",
            "10\n",
            "5\n"
          ]
        }
      ]
    },
    {
      "cell_type": "code",
      "source": [
        "# Functions\n",
        "def displayWelcome():\n",
        "  print(\"Welcome to Python. This article explains the basics of Python for absolute beginners!\")\n",
        "  return;\n",
        "\n",
        "displayWelcome()\n",
        "print(\"Do something here\")\n",
        "displayWelcome()\n",
        "print(\"Do some other stuff here\")"
      ],
      "metadata": {
        "colab": {
          "base_uri": "https://localhost:8080/"
        },
        "id": "Hap3OMULeOhA",
        "outputId": "3974de92-9609-45cd-fe07-8f000f9c80d9"
      },
      "execution_count": 28,
      "outputs": [
        {
          "output_type": "stream",
          "name": "stdout",
          "text": [
            "Welcome to Python. This article explains the basics of Python for absolute beginners!\n",
            "Do something here\n",
            "Welcome to Python. This article explains the basics of Python for absolute beginners!\n",
            "Do some other stuff here\n"
          ]
        }
      ]
    },
    {
      "cell_type": "code",
      "source": [
        "# Functions with Parameters\n",
        "def addNumbers(n1, n2):\n",
        "    r = n1 + n2\n",
        "    return r;\n",
        "\n",
        "result = addNumbers(10, 20)\n",
        "print(result)\n",
        "\n",
        "result = addNumbers(40, 60)\n",
        "print(result)\n",
        "\n",
        "result = addNumbers(15, 25)\n",
        "print(result)"
      ],
      "metadata": {
        "colab": {
          "base_uri": "https://localhost:8080/"
        },
        "id": "lKHWASuBf77a",
        "outputId": "15ca0192-efc8-464c-97df-dd1f200d3b7c"
      },
      "execution_count": 29,
      "outputs": [
        {
          "output_type": "stream",
          "name": "stdout",
          "text": [
            "30\n",
            "100\n",
            "40\n"
          ]
        }
      ]
    },
    {
      "cell_type": "code",
      "source": [
        "# List, Tuples, Dictionaries\n",
        "\n",
        "# List\n",
        "randomlist = ['apple', 'banana', True, 10, 'Mango']\n",
        "\n",
        "print(randomlist[0])\n",
        "print(randomlist[1])\n",
        "print(randomlist[2])\n",
        "print(randomlist[3])\n",
        "print(randomlist[4])"
      ],
      "metadata": {
        "colab": {
          "base_uri": "https://localhost:8080/"
        },
        "id": "kPNxeM_rf8QO",
        "outputId": "5fc71c65-a9ac-4dae-aee7-2f8816da9906"
      },
      "execution_count": 31,
      "outputs": [
        {
          "output_type": "stream",
          "name": "stdout",
          "text": [
            "apple\n",
            "banana\n",
            "True\n",
            "10\n",
            "Mango\n"
          ]
        }
      ]
    },
    {
      "cell_type": "code",
      "source": [
        "# Assigning New List Elements\n",
        "# Define the list\n",
        "randomlist = ['apple', 'banana', True, '10', 'Mango']\n",
        "\n",
        "# Print the current value at index 0\n",
        "print(randomlist[0])\n",
        "\n",
        "# Assign a new value at index 0\n",
        "randomlist[0] = 'Peach'\n",
        "\n",
        "# Print the updated value\n",
        "print(randomlist[0])\n",
        "\n",
        "# Print whole list\n",
        "print(randomlist)"
      ],
      "metadata": {
        "colab": {
          "base_uri": "https://localhost:8080/"
        },
        "id": "lFmakbFEf8bM",
        "outputId": "0499b5ea-5431-4a9d-f3fe-919bb6bbe83a"
      },
      "execution_count": 33,
      "outputs": [
        {
          "output_type": "stream",
          "name": "stdout",
          "text": [
            "apple\n",
            "Peach\n",
            "['Peach', 'banana', True, '10', 'Mango']\n"
          ]
        }
      ]
    },
    {
      "cell_type": "code",
      "source": [
        "# Adding List Elements\n",
        "randomlist = ['apple', 'banana', True, '10', 'Mango']\n",
        "\n",
        "print(randomlist)\n",
        "\n",
        "# Add a new element at the end of the list\n",
        "randomlist.append(0)\n",
        "\n",
        "print(randomlist)"
      ],
      "metadata": {
        "colab": {
          "base_uri": "https://localhost:8080/"
        },
        "id": "QlbxU1Onf8mm",
        "outputId": "dd099a14-9298-4a69-890a-d04a995c04e6"
      },
      "execution_count": 34,
      "outputs": [
        {
          "output_type": "stream",
          "name": "stdout",
          "text": [
            "['apple', 'banana', True, '10', 'Mango']\n",
            "['apple', 'banana', True, '10', 'Mango', 0]\n"
          ]
        }
      ]
    },
    {
      "cell_type": "code",
      "source": [
        "# Deleting List Elements\n",
        "randomlist = ['apple', 'banana', True, '10', 'Mango']\n",
        "\n",
        "print(randomlist)\n",
        "\n",
        "# Remove the second element by using the keyword del\n",
        "del randomlist[1]\n",
        "\n",
        "print(randomlist)"
      ],
      "metadata": {
        "colab": {
          "base_uri": "https://localhost:8080/"
        },
        "id": "Uo9lcqTLjVJQ",
        "outputId": "4ec87c9e-32fd-4678-db75-da3873af79cd"
      },
      "execution_count": 35,
      "outputs": [
        {
          "output_type": "stream",
          "name": "stdout",
          "text": [
            "['apple', 'banana', True, '10', 'Mango']\n",
            "['apple', True, '10', 'Mango']\n"
          ]
        }
      ]
    },
    {
      "cell_type": "code",
      "source": [
        "# Tuples\n",
        "# Accessing Tuple Elements\n",
        "randomtuple = ('apple', 'banana', True, '10', 'Mango')\n",
        "\n",
        "print(randomtuple[1])\n",
        "print(randomtuple[3])\n",
        "print(randomtuple[4])\n"
      ],
      "metadata": {
        "colab": {
          "base_uri": "https://localhost:8080/"
        },
        "id": "IBgGfp0YjVc5",
        "outputId": "0aed31cb-dd48-444e-ea20-5533ef68761c"
      },
      "execution_count": 38,
      "outputs": [
        {
          "output_type": "stream",
          "name": "stdout",
          "text": [
            "banana\n",
            "10\n",
            "Mango\n"
          ]
        }
      ]
    },
    {
      "cell_type": "code",
      "source": [
        "# Assigning values to Tuple Elements\n",
        "randomtuple[1] = 10     # This operation is not allowed"
      ],
      "metadata": {
        "colab": {
          "base_uri": "https://localhost:8080/",
          "height": 182
        },
        "id": "Dd4v2ClUjVnn",
        "outputId": "8cd27026-9cba-4224-ae22-b7bdd3c2e6e3"
      },
      "execution_count": 41,
      "outputs": [
        {
          "output_type": "error",
          "ename": "TypeError",
          "evalue": "ignored",
          "traceback": [
            "\u001b[0;31m---------------------------------------------------------------------------\u001b[0m",
            "\u001b[0;31mTypeError\u001b[0m                                 Traceback (most recent call last)",
            "\u001b[0;32m<ipython-input-41-c7d5103abe12>\u001b[0m in \u001b[0;36m<module>\u001b[0;34m()\u001b[0m\n\u001b[1;32m      1\u001b[0m \u001b[0;31m# Assigning values to Tuple Elements\u001b[0m\u001b[0;34m\u001b[0m\u001b[0;34m\u001b[0m\u001b[0;34m\u001b[0m\u001b[0m\n\u001b[0;32m----> 2\u001b[0;31m \u001b[0mrandomtuple\u001b[0m\u001b[0;34m[\u001b[0m\u001b[0;36m1\u001b[0m\u001b[0;34m]\u001b[0m \u001b[0;34m=\u001b[0m \u001b[0;36m10\u001b[0m     \u001b[0;31m# This operation is not allowed\u001b[0m\u001b[0;34m\u001b[0m\u001b[0;34m\u001b[0m\u001b[0m\n\u001b[0m",
            "\u001b[0;31mTypeError\u001b[0m: 'tuple' object does not support item assignment"
          ]
        }
      ]
    },
    {
      "cell_type": "code",
      "source": [
        "# Deleting a Tuple Element\n",
        "del randomtuple[1] # This operation is not allowed\n"
      ],
      "metadata": {
        "colab": {
          "base_uri": "https://localhost:8080/",
          "height": 182
        },
        "id": "7bs19dfvjV5J",
        "outputId": "42f6d2b9-e629-414b-a251-2119559b8e06"
      },
      "execution_count": 44,
      "outputs": [
        {
          "output_type": "error",
          "ename": "TypeError",
          "evalue": "ignored",
          "traceback": [
            "\u001b[0;31m---------------------------------------------------------------------------\u001b[0m",
            "\u001b[0;31mTypeError\u001b[0m                                 Traceback (most recent call last)",
            "\u001b[0;32m<ipython-input-44-4cb9afc2a9c1>\u001b[0m in \u001b[0;36m<module>\u001b[0;34m()\u001b[0m\n\u001b[1;32m      1\u001b[0m \u001b[0;31m# Deleting a Tuple Element\u001b[0m\u001b[0;34m\u001b[0m\u001b[0;34m\u001b[0m\u001b[0;34m\u001b[0m\u001b[0m\n\u001b[0;32m----> 2\u001b[0;31m \u001b[0;32mdel\u001b[0m \u001b[0mrandomtuple\u001b[0m\u001b[0;34m[\u001b[0m\u001b[0;36m1\u001b[0m\u001b[0;34m]\u001b[0m \u001b[0;31m# This operation is not allowed\u001b[0m\u001b[0;34m\u001b[0m\u001b[0;34m\u001b[0m\u001b[0m\n\u001b[0m",
            "\u001b[0;31mTypeError\u001b[0m: 'tuple' object doesn't support item deletion"
          ]
        }
      ]
    },
    {
      "cell_type": "code",
      "source": [
        "# Deletong a Tuple Element part 2\n",
        "randomtuple = ('apple', 'banana', True, '10', 'Mango')\n",
        "\n",
        "print(randomtuple)\n",
        "\n",
        "del randomtuple\n",
        "\n",
        "print(randomtuple)"
      ],
      "metadata": {
        "colab": {
          "base_uri": "https://localhost:8080/",
          "height": 217
        },
        "id": "gCkK2CLDlBlO",
        "outputId": "9e6d0b94-35fc-4dea-fa43-ccdfe29f3c64"
      },
      "execution_count": 45,
      "outputs": [
        {
          "output_type": "stream",
          "name": "stdout",
          "text": [
            "('apple', 'banana', True, '10', 'Mango')\n"
          ]
        },
        {
          "output_type": "error",
          "ename": "NameError",
          "evalue": "ignored",
          "traceback": [
            "\u001b[0;31m---------------------------------------------------------------------------\u001b[0m",
            "\u001b[0;31mNameError\u001b[0m                                 Traceback (most recent call last)",
            "\u001b[0;32m<ipython-input-45-f6337ebbb3a9>\u001b[0m in \u001b[0;36m<module>\u001b[0;34m()\u001b[0m\n\u001b[1;32m      5\u001b[0m \u001b[0;32mdel\u001b[0m \u001b[0mrandomtuple\u001b[0m\u001b[0;34m\u001b[0m\u001b[0;34m\u001b[0m\u001b[0m\n\u001b[1;32m      6\u001b[0m \u001b[0;34m\u001b[0m\u001b[0m\n\u001b[0;32m----> 7\u001b[0;31m \u001b[0mprint\u001b[0m\u001b[0;34m(\u001b[0m\u001b[0mrandomtuple\u001b[0m\u001b[0;34m)\u001b[0m\u001b[0;34m\u001b[0m\u001b[0;34m\u001b[0m\u001b[0m\n\u001b[0m",
            "\u001b[0;31mNameError\u001b[0m: name 'randomtuple' is not defined"
          ]
        }
      ]
    },
    {
      "cell_type": "code",
      "source": [
        "# Dictionaries\n",
        "randomdict = {'Make': 'Honda', 'Model': 'Civic', 'Year': 2010, 'Color': 'Black'}\n",
        "\n",
        "# Accessing Values to Dictionary Elements\n",
        "print(randomdict['Make'])\n",
        "print(randomdict['Model'])\n"
      ],
      "metadata": {
        "colab": {
          "base_uri": "https://localhost:8080/"
        },
        "id": "vy7eMcodlBtQ",
        "outputId": "cbb854c0-5fb5-41aa-ce45-232106a648aa"
      },
      "execution_count": 47,
      "outputs": [
        {
          "output_type": "stream",
          "name": "stdout",
          "text": [
            "Honda\n",
            "Civic\n"
          ]
        }
      ]
    },
    {
      "cell_type": "code",
      "source": [
        "# Assigning Values to Dictionary Elements\n",
        "randomdict = {'Make': 'Honda', 'Model': 'Civic', 'Year': 2010, 'Color': 'Black'}\n",
        "\n",
        "print(randomdict['Make'])\n",
        "randomdict['Make'] = 'Audi'\n",
        "print(randomdict['Make'])\n"
      ],
      "metadata": {
        "colab": {
          "base_uri": "https://localhost:8080/"
        },
        "id": "1nQ2x4VHl12L",
        "outputId": "2f31348c-460d-4f7e-c385-733fdbf05cd3"
      },
      "execution_count": 48,
      "outputs": [
        {
          "output_type": "stream",
          "name": "stdout",
          "text": [
            "Honda\n",
            "Audi\n"
          ]
        }
      ]
    },
    {
      "cell_type": "code",
      "source": [
        "# Deleting Dictionary Elements\n",
        "randomdict = {'Make': 'Honda', 'Model': 'Civic', 'Year': 2010, 'Color': 'Black'}\n",
        "\n",
        "# Displaying complete dictionary\n",
        "print(randomdict)\n",
        "\n",
        "# Deleting one element\n",
        "del randomdict['Make']\n",
        "print(randomdict)\n",
        "\n",
        "# Clearing whole dictionary\n",
        "randomdict.clear()\n",
        "print(randomdict)\n",
        "\n",
        "# Deleting dictionary itself\n",
        "del randomdict\n",
        "print(randomdict)"
      ],
      "metadata": {
        "colab": {
          "base_uri": "https://localhost:8080/",
          "height": 252
        },
        "id": "8vhip5ojl2Gq",
        "outputId": "ce5fcd35-7fb6-4a5c-e875-3d0d7aa51dc9"
      },
      "execution_count": 51,
      "outputs": [
        {
          "output_type": "stream",
          "name": "stdout",
          "text": [
            "{'Make': 'Honda', 'Model': 'Civic', 'Year': 2010, 'Color': 'Black'}\n",
            "{'Model': 'Civic', 'Year': 2010, 'Color': 'Black'}\n",
            "{}\n"
          ]
        },
        {
          "output_type": "error",
          "ename": "NameError",
          "evalue": "ignored",
          "traceback": [
            "\u001b[0;31m---------------------------------------------------------------------------\u001b[0m",
            "\u001b[0;31mNameError\u001b[0m                                 Traceback (most recent call last)",
            "\u001b[0;32m<ipython-input-51-d9c2f195a62e>\u001b[0m in \u001b[0;36m<module>\u001b[0;34m()\u001b[0m\n\u001b[1;32m     15\u001b[0m \u001b[0;31m# Deleting dictionary itself\u001b[0m\u001b[0;34m\u001b[0m\u001b[0;34m\u001b[0m\u001b[0;34m\u001b[0m\u001b[0m\n\u001b[1;32m     16\u001b[0m \u001b[0;32mdel\u001b[0m \u001b[0mrandomdict\u001b[0m\u001b[0;34m\u001b[0m\u001b[0;34m\u001b[0m\u001b[0m\n\u001b[0;32m---> 17\u001b[0;31m \u001b[0mprint\u001b[0m\u001b[0;34m(\u001b[0m\u001b[0mrandomdict\u001b[0m\u001b[0;34m)\u001b[0m\u001b[0;34m\u001b[0m\u001b[0;34m\u001b[0m\u001b[0m\n\u001b[0m",
            "\u001b[0;31mNameError\u001b[0m: name 'randomdict' is not defined"
          ]
        }
      ]
    },
    {
      "cell_type": "code",
      "source": [
        "# Example Application\n",
        "cars = []\n",
        "\n",
        "add_inventory = input('Add inventory? [y/n] ')\n",
        "\n",
        "while add_inventory == 'y':\n",
        "    # Get car data from user\n",
        "    make = input('Make: ')\n",
        "    model = input('Model: ')\n",
        "    year = input('Year: ')\n",
        "    miles = input('Miles: ')\n",
        "\n",
        "    # Create car dictionary object and save it to list\n",
        "    car = {'Make': make, 'Model': model, 'Year': year, 'Miles': miles}\n",
        "    cars.append(car)\n",
        "\n",
        "    # Ask user if we should keep going\n",
        "    add_inventory = input('Add inventory? [y/n] ')\n",
        "\n",
        "print('')\n",
        "print('Here are your cars:')\n",
        "\n",
        "# Display all of our cars\n",
        "for c in cars:\n",
        "    print('Make: ' + c['Make'])\n",
        "    print('Model: ' + c['Model'])\n",
        "    print('Year: ' + c['Year'])\n",
        "    print('Miles: ' + c['Miles'])\n",
        "    print('')"
      ],
      "metadata": {
        "colab": {
          "base_uri": "https://localhost:8080/"
        },
        "id": "5QVMUMf0pALx",
        "outputId": "7540ec75-b5d0-47b6-f6bc-a39471bb1c96"
      },
      "execution_count": 54,
      "outputs": [
        {
          "output_type": "stream",
          "name": "stdout",
          "text": [
            "Add inventory? [y/n] y\n",
            "Make: Porsche\n",
            "Model: 911 Turbo\n",
            "Year: 2017\n",
            "Miles: 2000\n",
            "Add inventory? [y/n] y\n",
            "Make: Ferrari\n",
            "Model: 488 GTB\n",
            "Year: 2016\n",
            "Miles: 12000\n",
            "Add inventory? [y/n] y\n",
            "Make: Lamborghini\n",
            "Model: Aventador\n",
            "Year: 2017\n",
            "Miles: 8000\n",
            "Add inventory? [y/n] y\n",
            "Make: Corolla\n",
            "Model: Toyota\n",
            "Year: 2001\n",
            "Miles: 25000\n",
            "Add inventory? [y/n] n\n",
            "\n",
            "Here are your cars:\n",
            "Make: Porsche\n",
            "Model: 911 Turbo\n",
            "Year: 2017\n",
            "Miles: 2000\n",
            "\n",
            "Make: Ferrari\n",
            "Model: 488 GTB\n",
            "Year: 2016\n",
            "Miles: 12000\n",
            "\n",
            "Make: Lamborghini\n",
            "Model: Aventador\n",
            "Year: 2017\n",
            "Miles: 8000\n",
            "\n",
            "Make: Corolla\n",
            "Model: Toyota\n",
            "Year: 2001\n",
            "Miles: 25000\n",
            "\n"
          ]
        }
      ]
    }
  ]
}