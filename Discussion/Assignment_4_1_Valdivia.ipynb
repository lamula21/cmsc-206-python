{
 "cells": [
  {
   "cell_type": "code",
   "execution_count": 1,
   "metadata": {},
   "outputs": [
    {
     "name": "stdout",
     "output_type": "stream",
     "text": [
      "[16, 18, 22]\n"
     ]
    }
   ],
   "source": [
    "# Jose  Valdivia Rojas\n",
    "# CMSC 206\n",
    "# Assignment 4.1.a\n",
    "\n",
    "def print_big_enough(a, b):\n",
    "\n",
    "  a_list =[ (eachNum if eachNum > b else None) for eachNum in a]      # for loop with a ternary operator\n",
    "  a_list = list(filter(None, a_list))   # Remove Null values from the list and store it in a new list\n",
    "  a_list.sort()         # Sort the list\n",
    "  print(a_list)\n",
    "\n",
    "a = [22, 16, 3, 18]\n",
    "b = 14\n",
    "print_big_enough(a,b)\n"
   ]
  },
  {
   "cell_type": "code",
   "execution_count": 18,
   "metadata": {},
   "outputs": [
    {
     "name": "stdout",
     "output_type": "stream",
     "text": [
      "Mar 12,2019\n"
     ]
    }
   ],
   "source": [
    "# Jose  Valdivia Rojas\n",
    "# CMSC 206\n",
    "# Assignment 4.1.b\n",
    "\n",
    "# Another way to format dates is using the Moment library https://github.com/zachwill/moment\n",
    "# Moment is a Python library for dealing with dates/times. Inspired by Moment.js https://www.youtube.com/watch?v=0i0Yn5oGW5U\n",
    "# import moment\n",
    "# date = moment.date(\"3/12/2019\").strftime(\"%b %d,%Y\")\n",
    "# print(date)\n",
    "\n",
    "\n",
    "from datetime import datetime\n",
    "\n",
    "def format_date(date):\n",
    "\n",
    "    date_list = str(date).split(\"/\")\n",
    "    if int(date_list[0]) > 12:\n",
    "        raise ValueError(\"Wrong format value, a month only can have 12 months\")\n",
    "    elif int(date_list[1]) > 31:\n",
    "        raise ValueError(\"Wrong format value, a month only can have 31 days\")\n",
    "    elif int(date_list[2]) > 9999:\n",
    "        raise ValueError(\"Wrong format value, year only can have 4 digits\")\n",
    "    \n",
    "    datetime_obj= datetime.strptime(date, \"%m/%d/%Y\")       # Convert the string into datetime object\n",
    "    datetime_formmatted = datetime_obj.strftime(\"%b %d,%Y\") # Format the time in Month Day, Year.\n",
    "\n",
    "    print(datetime_formmatted)\n",
    "\n",
    "date = \"3/12/2019\"\n",
    "format_date(date)"
   ]
  }
 ],
 "metadata": {
  "interpreter": {
   "hash": "0a477e406acbd2e5d181cdd122dfb51ff73acdf0b608e3a81bbfb62ac2a7a365"
  },
  "kernelspec": {
   "display_name": "Python 3.10.2 64-bit",
   "language": "python",
   "name": "python3"
  },
  "language_info": {
   "codemirror_mode": {
    "name": "ipython",
    "version": 3
   },
   "file_extension": ".py",
   "mimetype": "text/x-python",
   "name": "python",
   "nbconvert_exporter": "python",
   "pygments_lexer": "ipython3",
   "version": "3.10.2"
  },
  "orig_nbformat": 4
 },
 "nbformat": 4,
 "nbformat_minor": 2
}
