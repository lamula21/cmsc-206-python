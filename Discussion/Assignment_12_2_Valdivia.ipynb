{
 "cells": [
  {
   "cell_type": "markdown",
   "metadata": {},
   "source": [
    "# [API and JSON Example in Python](https://www.engineeringbigdata.com/api-and-json-example-in-python/)"
   ]
  },
  {
   "cell_type": "markdown",
   "metadata": {},
   "source": [
    "## What’s an API?"
   ]
  },
  {
   "cell_type": "markdown",
   "metadata": {},
   "source": [
    "API stands for Application Programming Interface and is a set of functions and procedures that allow applications to access features or data of an operating system, application, or other service that provides API access."
   ]
  },
  {
   "cell_type": "markdown",
   "metadata": {},
   "source": [
    "## What’s JSON?"
   ]
  },
  {
   "cell_type": "markdown",
   "metadata": {},
   "source": [
    "JSON (`JavaScript Object Notation`) is a lightweight format for `storing` and `transporting` data. In addition, JSON is often used when data is sent from a `server` to a `web page` and is easy to understand"
   ]
  },
  {
   "cell_type": "markdown",
   "metadata": {},
   "source": [
    "## Datamuse API Word-Finding Query"
   ]
  },
  {
   "cell_type": "markdown",
   "metadata": {},
   "source": [
    "The Datamuse API is a free API that requires no sign-up or tokens for use. This API is great for developers as a `word-finding query` engine and is for use in your apps to `find words that will match a set of constraints`. Also, developers can specify a wide variety of constraints such as meaning, spelling, sound, vocabulary in the word-finding query."
   ]
  },
  {
   "cell_type": "markdown",
   "metadata": {},
   "source": [
    "## Datamuse API Cheat Sheet\n"
   ]
  },
  {
   "cell_type": "markdown",
   "metadata": {},
   "source": [
    "[words with a meaning similar to engineering big data](https://api.datamuse.com/words?ml=engineering+big+data&max=5)\n",
    "\n",
    "[words related to data that start with the letter i](https://api.datamuse.com/words?ml=data&sp=i*&max=5)\n",
    "\n",
    "[words related to python that end with the letter a](https://api.datamuse.com/words?ml=python&sp=*a&max=5)\n",
    "\n",
    "[words that sound like pithon](https://api.datamuse.com/words?sl=pithon)\n",
    "\n",
    "[words that start with d, end in a, and have two letters in between](https://api.datamuse.com/words?sp=d??a&max=5)\n",
    "\n",
    "[words that are spelled similarly to cali](https://api.datamuse.com/words?sp=california&max=5)\n",
    "\n",
    "[words that rhyme with big](https://api.datamuse.com/words?rel_rhy=big&max=5)\n",
    "\n",
    "[words that rhyme with coding that are related to software](https://api.datamuse.com/words?ml=software&rel_rhy=code&max=5)\n",
    "\n",
    "[adjectives that are often used to describe software](https://api.datamuse.com/words?rel_jjb=software&max=5)\n",
    "\n",
    "[adjectives describing software sorted by how related they are to code](https://api.datamuse.com/words?rel_jjb=software&topics=code&max=5)\n",
    "\n",
    "[nouns that are often described by the adjective tough](https://api.datamuse.com/words?rel_jja=tough&max=5)\n",
    "\n",
    "[words that often follow “drink” in a sentence, that start with the letter c](https://api.datamuse.com/words?lc=software&sp=c*&max=5)\n",
    "\n",
    "[words that are triggered by (strongly associated with) the word “code”](https://api.datamuse.com/words?rel_trg=code&max=5)\n",
    "\n",
    "[suggestions for the user if they have typed in softw so far](https://api.datamuse.com/sug?s=softw&max=5)"
   ]
  },
  {
   "cell_type": "markdown",
   "metadata": {},
   "source": [
    "## Datamuse API Example\n"
   ]
  },
  {
   "cell_type": "markdown",
   "metadata": {},
   "source": [
    "In this example we will find words with a meaning similar to engineering big data. This is a very basic example API and JSON code to print out the data that this tutorial is searching for. As one can see, there is no need for API keys or tokens in this example."
   ]
  },
  {
   "cell_type": "code",
   "execution_count": 10,
   "metadata": {},
   "outputs": [
    {
     "name": "stdout",
     "output_type": "stream",
     "text": [
      "[{'score': 57740, 'tags': ['n', 'prop'], 'word': 'monty'},\n",
      " {'score': 51312, 'tags': ['n'], 'word': 'boa constrictor'},\n",
      " {'score': 51311, 'tags': ['n'], 'word': 'snake'},\n",
      " {'score': 51310, 'tags': ['n'], 'word': 'crocodile'},\n",
      " {'score': 51309, 'tags': ['n'], 'word': 'reptile'}]\n"
     ]
    }
   ],
   "source": [
    "import json\n",
    "import urllib.request as urllib2\n",
    "from pprint import PrettyPrinter # To print formatted JSON data\n",
    "pp = PrettyPrinter()\n",
    "\n",
    "api_url = 'https://api.datamuse.com/words?ml=python&max=5'\n",
    "\n",
    "# Call the API adn get JSON\n",
    "data = json.load(urllib2.urlopen(api_url))\n",
    "\n",
    "def datamuse_api():\n",
    "    pp.pprint(data) ## pprinter doesnt work here\n",
    "\n",
    "datamuse_api()"
   ]
  },
  {
   "cell_type": "markdown",
   "metadata": {},
   "source": [
    "## JSON and Python Formatting\n"
   ]
  },
  {
   "cell_type": "markdown",
   "metadata": {},
   "source": [
    "Add an indent into the json.dumps as shown below\n",
    "\n",
    "`indent=4`\n",
    "\n",
    "Without this line all JSON text will be extracted in one line."
   ]
  },
  {
   "cell_type": "code",
   "execution_count": 11,
   "metadata": {},
   "outputs": [
    {
     "name": "stdout",
     "output_type": "stream",
     "text": [
      "[\n",
      "    {\n",
      "        \"score\": 57740,\n",
      "        \"tags\": [\n",
      "            \"n\",\n",
      "            \"prop\"\n",
      "        ],\n",
      "        \"word\": \"monty\"\n",
      "    },\n",
      "    {\n",
      "        \"score\": 51312,\n",
      "        \"tags\": [\n",
      "            \"n\"\n",
      "        ],\n",
      "        \"word\": \"boa constrictor\"\n",
      "    },\n",
      "    {\n",
      "        \"score\": 51311,\n",
      "        \"tags\": [\n",
      "            \"n\"\n",
      "        ],\n",
      "        \"word\": \"snake\"\n",
      "    },\n",
      "    {\n",
      "        \"score\": 51310,\n",
      "        \"tags\": [\n",
      "            \"n\"\n",
      "        ],\n",
      "        \"word\": \"crocodile\"\n",
      "    },\n",
      "    {\n",
      "        \"score\": 51309,\n",
      "        \"tags\": [\n",
      "            \"n\"\n",
      "        ],\n",
      "        \"word\": \"reptile\"\n",
      "    }\n",
      "]\n"
     ]
    }
   ],
   "source": [
    "# Formatting with json.dumps()\n",
    "import json\n",
    "import urllib.request as urllib2\n",
    "\n",
    "api_url = 'https://api.datamuse.com/words?ml=python&max=5'\n",
    "data = json.load(urllib2.urlopen(api_url))\n",
    "data_format = json.dumps(data, indent=4, sort_keys=True)\n",
    "\n",
    "def datamuse_api():\n",
    "    print(data_format)\n",
    "\n",
    "datamuse_api()"
   ]
  },
  {
   "cell_type": "markdown",
   "metadata": {},
   "source": [
    "## Extract and Print JSON Objects\n"
   ]
  },
  {
   "cell_type": "markdown",
   "metadata": {},
   "source": [
    "For example, let’s only pull the `‘word’` object from the list we created with the API and json.load."
   ]
  },
  {
   "cell_type": "code",
   "execution_count": 9,
   "metadata": {},
   "outputs": [
    {
     "name": "stdout",
     "output_type": "stream",
     "text": [
      "Type data:  <class 'list'>\n",
      "Type data_format:  <class 'str'>\n",
      "\n",
      "Print raw JSON data\n",
      "\n",
      "Output:  [\n",
      "    {\n",
      "        \"score\": 57740,\n",
      "        \"tags\": [\n",
      "            \"n\",\n",
      "            \"prop\"\n",
      "        ],\n",
      "        \"word\": \"monty\"\n",
      "    },\n",
      "    {\n",
      "        \"score\": 51312,\n",
      "        \"tags\": [\n",
      "            \"n\"\n",
      "        ],\n",
      "        \"word\": \"boa constrictor\"\n",
      "    },\n",
      "    {\n",
      "        \"score\": 51311,\n",
      "        \"tags\": [\n",
      "            \"n\"\n",
      "        ],\n",
      "        \"word\": \"snake\"\n",
      "    },\n",
      "    {\n",
      "        \"score\": 51310,\n",
      "        \"tags\": [\n",
      "            \"n\"\n",
      "        ],\n",
      "        \"word\": \"crocodile\"\n",
      "    },\n",
      "    {\n",
      "        \"score\": 51309,\n",
      "        \"tags\": [\n",
      "            \"n\"\n",
      "        ],\n",
      "        \"word\": \"reptile\"\n",
      "    }\n",
      "]\n",
      "\n",
      "Words with a meaning similar to Python: \n",
      "\t> monty\n",
      "\t> boa constrictor\n",
      "\t> snake\n",
      "\t> crocodile\n",
      "\t> reptile\n"
     ]
    }
   ],
   "source": [
    "import json\n",
    "import urllib.request as urllib2\n",
    "\n",
    "api_url = 'https://api.datamuse.com/words?ml=python&max=5'\n",
    "data = json.load(urllib2.urlopen(api_url))      # Call API and get JSON\n",
    "data_format = json.dumps(data, indent=4, sort_keys=True)    # Format the JSON file\n",
    "\n",
    "def datamuse_api():\n",
    "    print(\"Type data: \", type(data))\n",
    "    print(\"Type data_format: \", type(data_format))\n",
    "    print(\"\\nPrint raw JSON data\")\n",
    "    print(\"\\nOutput: \", data_format)\n",
    "\n",
    "def word_jason():\n",
    "    print(\"\\nWords with a meaning similar to Python: \")\n",
    "    try:\n",
    "        for i in data:\n",
    "            print(\"\\t>\", i['word'])\n",
    "\n",
    "    except (ValueError, KeyError, TypeError):\n",
    "        print(\"JSON format error\")\n",
    "\n",
    "def main():\n",
    "    datamuse_api()\n",
    "    word_jason()\n",
    "\n",
    "if __name__ == \"__main__\":\n",
    "    main()"
   ]
  },
  {
   "cell_type": "markdown",
   "metadata": {},
   "source": [
    "## Enhancement"
   ]
  },
  {
   "cell_type": "markdown",
   "metadata": {},
   "source": [
    "10 adjectives that describes my natal country Peru"
   ]
  },
  {
   "cell_type": "code",
   "execution_count": 13,
   "metadata": {},
   "outputs": [
    {
     "name": "stdout",
     "output_type": "stream",
     "text": [
      "\n",
      "Adjectives words that describes Peru: \n",
      "\t> southern\n",
      "\t> northern\n",
      "\t> ancient\n",
      "\t> central\n",
      "\t> coastal\n",
      "\t> eastern\n",
      "\t> colonial\n",
      "\t> general\n",
      "\t> ecuador\n",
      "\t> century\n"
     ]
    }
   ],
   "source": [
    "api_url = 'https://api.datamuse.com/words?rel_jjb=peru&max=10'\n",
    "data = json.load(urllib2.urlopen(api_url))\n",
    "\n",
    "def word_jason():\n",
    "    print(\"\\nAdjective words that describes Peru: \")\n",
    "    try:\n",
    "        for i in data:\n",
    "            print(\"\\t>\", i['word'])\n",
    "\n",
    "    except (ValueError, KeyError, TypeError):\n",
    "        print(\"JSON format error\")\n",
    "word_jason()  "
   ]
  },
  {
   "cell_type": "markdown",
   "metadata": {},
   "source": [
    "# Author: Jose Valdivia \n",
    "# CMSC 206 \n",
    "# Activity 12.2\n",
    "# Prof. Gary Thai"
   ]
  }
 ],
 "metadata": {
  "interpreter": {
   "hash": "0a477e406acbd2e5d181cdd122dfb51ff73acdf0b608e3a81bbfb62ac2a7a365"
  },
  "kernelspec": {
   "display_name": "Python 3.10.2 64-bit",
   "language": "python",
   "name": "python3"
  },
  "language_info": {
   "codemirror_mode": {
    "name": "ipython",
    "version": 3
   },
   "file_extension": ".py",
   "mimetype": "text/x-python",
   "name": "python",
   "nbconvert_exporter": "python",
   "pygments_lexer": "ipython3",
   "version": "3.10.2"
  },
  "orig_nbformat": 4
 },
 "nbformat": 4,
 "nbformat_minor": 2
}
