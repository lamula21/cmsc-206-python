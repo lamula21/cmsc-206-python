{
 "cells": [
  {
   "cell_type": "markdown",
   "metadata": {},
   "source": [
    "# [Wolfram Alpha API - Python](https://towardsdatascience.com/build-your-next-project-with-wolfram-alpha-api-and-python-51c2c361d8b9)"
   ]
  },
  {
   "cell_type": "markdown",
   "metadata": {},
   "source": [
    "In this article we will explore how you can use it to answer simple questions, solve mathematical problems, render plots or even describe DNA sequences!"
   ]
  },
  {
   "cell_type": "markdown",
   "metadata": {},
   "source": [
    "## Setting up"
   ]
  },
  {
   "cell_type": "code",
   "execution_count": 5,
   "metadata": {},
   "outputs": [
    {
     "name": "stdout",
     "output_type": "stream",
     "text": [
      "{'queryresult': {'success': True, 'error': False, 'numpods': 4, 'datatypes': 'Species', 'timedout': '', 'timedoutpods': '', 'timing': 0.802, 'parsetiming': 0.308, 'parsetimedout': False, 'recalculate': '', 'id': 'MSP18152248bd37bdf7fi4700003bba981de8b76bdd', 'host': 'https://www6b3.wolframalpha.com', 'server': '15', 'related': 'https://www6b3.wolframalpha.com/api/v1/relatedQueries.jsp?id=MSPa18162248bd37bdf7fi4700001gedgh0f9a69f9bg8884920455003441207', 'version': '2.6', 'inputstring': 'lifespan of a mosquito', 'pods': [{'title': 'Input interpretation', 'scanner': 'Identity', 'id': 'Input', 'position': 100, 'error': False, 'numsubpods': 1, 'subpods': [{'title': '', 'plaintext': 'mosquito | lifespan'}], 'expressiontypes': {'name': 'Grid'}}, {'title': 'Result', 'scanner': 'Data', 'id': 'Result', 'position': 200, 'error': False, 'numsubpods': 1, 'primary': True, 'subpods': [{'title': '', 'microsources': {'microsource': 'SpeciesData'}, 'datasources': {'datasource': ['AmazingNumbers', 'TheWikimediaFoundationIncWikipedia']}, 'plaintext': '(9.2 to 11, 52 to 60) days'}], 'expressiontypes': {'name': 'Default'}}, {'title': 'Scientific name', 'scanner': 'Data', 'id': 'ScientificName:SpeciesData', 'position': 300, 'error': False, 'numsubpods': 1, 'subpods': [{'title': '', 'microsources': {'microsource': 'SpeciesData'}, 'datasources': {'datasource': 'CatalogueOfLife'}, 'plaintext': 'Culicidae'}], 'expressiontypes': {'name': 'Default'}}, {'title': 'Human comparisons', 'scanner': 'Data', 'id': 'HumanComparisons:TypicalAge:SpeciesDataExtras', 'position': 400, 'error': False, 'numsubpods': 1, 'subpods': [{'title': '', 'datasources': {'datasource': ['AmazingNumbers', 'TheWikimediaFoundationIncWikipedia']}, 'plaintext': 'corresponding human value | 73 years\\nfraction of human value | (3.4×10^-4 to 4.2×10^-4, 0.0019 to 0.0023)'}], 'expressiontypes': {'name': 'Grid'}}], 'assumptions': [{'type': 'SubCategory', 'word': 'mosquito', 'template': 'Assuming ${desc1}. Use ${desc2} instead', 'count': 2, 'values': [{'name': 'Family:Culicidae', 'desc': 'mosquito', 'input': '*DPClash.SpeciesE.mosquito-_*Family%3ACulicidae-'}, {'name': 'Species:CulexPipiens', 'desc': 'northern house mosquito', 'input': '*DPClash.SpeciesE.mosquito-_*Species%3ACulexPipiens-'}]}, {'type': 'SubCategory', 'word': 'lifespan', 'template': 'Assuming ${desc1}. Use ${desc2} instead', 'count': 2, 'values': [{'name': 'TypicalAge', 'desc': 'lifespan', 'input': '*DPClash.SpeciesDataExtrasPropertyP.lifespan-_*TypicalAge-'}, {'name': 'MaximumAge', 'desc': 'maximum recorded lifespan', 'input': '*DPClash.SpeciesDataExtrasPropertyP.lifespan-_*MaximumAge-'}]}], 'sources': {'url': 'https://www6b3.wolframalpha.com/sources/SpeciesDataSourceInformationNotes.html', 'text': 'Species data'}}}\n",
      "Result: '(9.2 to 11, 52 to 60) days' from AmazingNumbers, TheWikimediaFoundationIncWikipedia (SpeciesData).\n"
     ]
    }
   ],
   "source": [
    "from pprint import pprint\n",
    "import requests\n",
    "import os\n",
    "import urllib.parse\n",
    "\n",
    "appid = 'GKW8HG-HQXHAGAL67'\n",
    "\n",
    "query = urllib.parse.quote_plus(\"lifespan of a mosquito\")\n",
    "query_url = f\"http://api.wolframalpha.com/v2/query?\" \\\n",
    "             f\"appid={appid}\" \\\n",
    "             f\"&input={query}\" \\\n",
    "             f\"&format=plaintext\" \\\n",
    "             f\"&output=json\"\n",
    "\n",
    "r = requests.get(query_url).json()\n",
    "\n",
    "data = r[\"queryresult\"][\"pods\"][1][\"subpods\"][0]\n",
    "datasource = \", \".join(data[\"datasources\"][\"datasource\"])\n",
    "microsource = data[\"microsources\"][\"microsource\"]\n",
    "plaintext = data[\"plaintext\"]\n",
    "\n",
    "print(f\"Result: '{plaintext}' from {datasource} ({microsource}).\")\n",
    "# Result: '(9.2 to 11, 52 to 60) days' from AmazingNumbers, TheWikimediaFoundationIncWikipedia (SpeciesData)."
   ]
  }
 ],
 "metadata": {
  "interpreter": {
   "hash": "0a477e406acbd2e5d181cdd122dfb51ff73acdf0b608e3a81bbfb62ac2a7a365"
  },
  "kernelspec": {
   "display_name": "Python 3.10.2 64-bit",
   "language": "python",
   "name": "python3"
  },
  "language_info": {
   "codemirror_mode": {
    "name": "ipython",
    "version": 3
   },
   "file_extension": ".py",
   "mimetype": "text/x-python",
   "name": "python",
   "nbconvert_exporter": "python",
   "pygments_lexer": "ipython3",
   "version": "3.10.2"
  },
  "orig_nbformat": 4
 },
 "nbformat": 4,
 "nbformat_minor": 2
}
