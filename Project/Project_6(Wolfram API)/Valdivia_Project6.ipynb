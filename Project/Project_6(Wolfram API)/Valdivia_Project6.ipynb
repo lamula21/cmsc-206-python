{
 "cells": [
  {
   "cell_type": "markdown",
   "metadata": {},
   "source": [
    "# Full Result API Wolfram"
   ]
  },
  {
   "cell_type": "markdown",
   "metadata": {},
   "source": [
    "## Using Math"
   ]
  },
  {
   "cell_type": "code",
   "execution_count": 103,
   "metadata": {},
   "outputs": [
    {
     "name": "stdout",
     "output_type": "stream",
     "text": [
      "Result of x^2 + 2 = 6 is 'x = ± 2'.\n"
     ]
    }
   ],
   "source": [
    "from pprint import pprint\n",
    "import requests\n",
    "import os\n",
    "import urllib.parse\n",
    "\n",
    "appid = 'GKW8HG-HQXHAGAL67'\n",
    "\n",
    "equation = input(\"What is your equation: \")\n",
    "query = urllib.parse.quote_plus(f\"solve {equation}\")\n",
    "query_url = f\"http://api.wolframalpha.com/v2/query?\" \\\n",
    "            f\"appid={appid}\" \\\n",
    "            f\"&input={query}\" \\\n",
    "            f\"&includepodid=Result\" \\\n",
    "            f\"&output=json\"\n",
    "\n",
    "r = requests.get(query_url).json()\n",
    "data = r[\"queryresult\"][\"pods\"][0][\"subpods\"][0][\"plaintext\"]\n",
    "\n",
    "print(f\"Result of {equation} is '{data}'.\")\n"
   ]
  },
  {
   "cell_type": "markdown",
   "metadata": {},
   "source": [
    "## Using Simple Questions - President of United States"
   ]
  },
  {
   "cell_type": "code",
   "execution_count": 102,
   "metadata": {},
   "outputs": [
    {
     "name": "stdout",
     "output_type": "stream",
     "text": [
      "Result: Joe Biden (from January 20, 2021 to present)\n",
      "\n",
      "Basic information:\n",
      "Official position: president (46th)\n",
      "Country: United States\n",
      "Political Affiliation: Democratic\n",
      "Start Date: January 20, 2021 (1 year 3 months 13 days ago)\n",
      "\n",
      "Related leaders:\n",
      "Vice President:  Kamala Harris\n",
      "Speaker of the House of Representatives:  Nancy Pelosi\n",
      "\n",
      "\n",
      "Former Presidents from 1993 to Present:\n",
      " Wednesday, January 20, 2021 to present: Joe Biden (Democrat) \n",
      " Friday, January 20, 2017 to Wednesday, January 20, 2021 (4 years): Donald Trump (Republican) \n",
      " Tuesday, January 20, 2009 to Friday, January 20, 2017 (8 years): Barack Obama (Democrat) \n",
      " Saturday, January 20, 2001 to Tuesday, January 20, 2009 (8 years): George W. Bush (Republican) \n",
      " Wednesday, January 20, 1993 to Saturday, January 20, 2001 (8 years): Bill Clinton (Democrat) \n"
     ]
    }
   ],
   "source": [
    "appid = 'GKW8HG-HQXHAGAL67'\n",
    "\n",
    "query = urllib.parse.quote_plus(\"president of united states\")\n",
    "# --> president+of+united+states\n",
    "\n",
    "# This is the URL for the query\n",
    "query_url = f\"http://api.wolframalpha.com/v2/query?\" \\\n",
    "             f\"appid={appid}\" \\\n",
    "             f\"&input={query}\" \\\n",
    "             f\"&format=plaintext\" \\\n",
    "             f\"&output=json\"\n",
    "\n",
    "r = requests.get(query_url).json()\n",
    "#pprint(r)\n",
    "\n",
    "# Result\n",
    "title = r[\"queryresult\"][\"pods\"][1][\"title\"]\n",
    "president = r[\"queryresult\"][\"pods\"][1][\"subpods\"][0]['plaintext'] \n",
    "\n",
    "# Basic Information\n",
    "title2 = r[\"queryresult\"][\"pods\"][2][\"title\"]\n",
    "basic_info = r[\"queryresult\"][\"pods\"][2][\"subpods\"][0][\"plaintext\"] \n",
    "basic_info_list = basic_info.split(\"\\n\")\n",
    "basic_info_dic = { \"official position\": basic_info_list[0].split(\"|\")[1].strip(),\n",
    "                    \"country\" : basic_info_list[1].split(\"|\")[1].strip(),\n",
    "                    \"political affiliation\" : basic_info_list[2].split(\"|\")[1].strip(),\n",
    "                    \"start date\" : basic_info_list[3].split(\"|\")[1].strip(),}\n",
    "\n",
    "# Related Information\n",
    "title3 = r[\"queryresult\"][\"pods\"][4][\"title\"]\n",
    "related_info = r[\"queryresult\"][\"pods\"][4][\"subpods\"][0][\"plaintext\"]\n",
    "related_info_list = related_info.split(\"\\n\")\n",
    "related_info_dic = { \"vice president\" : related_info_list[0].split(\"|\")[1],\n",
    "                     \"speaker of house\" : related_info_list[1].split(\"|\")[1]}\n",
    "\n",
    "# Former Presidents 2000 to present\n",
    "all_presidents = r[\"queryresult\"][\"pods\"][3][\"subpods\"][0][\"plaintext\"]\n",
    "all_presidents_list = all_presidents.split(\"\\n\")\n",
    "\n",
    "\n",
    "\n",
    "\n",
    "\n",
    "print(f\"{title}: {president}\\n\")\n",
    "\n",
    "print(f\"{title2}:\\nOfficial position: {basic_info_dic['official position']}\")\n",
    "print(f\"Country: {basic_info_dic['country']}\")\n",
    "print(f\"Political Affiliation: {basic_info_dic['political affiliation']}\")\n",
    "print(f\"Start Date: {basic_info_dic['start date']}\\n\")\n",
    "\n",
    "print(f\"{title3}:\")\n",
    "print(f\"Vice President: {related_info_dic['vice president']}\")\n",
    "print(f\"Speaker of the House of Representatives: {related_info_dic['speaker of house']}\")\n",
    "\n",
    "print(\"\\n\\nFormer Presidents from 1993 to Present:\")\n",
    "for each in all_presidents_list:\n",
    "    print(f\" {each.split('|')[0].strip()}: {each.split('|')[1].strip()} \")"
   ]
  },
  {
   "cell_type": "markdown",
   "metadata": {},
   "source": [
    "#   Conversional API Wolfram"
   ]
  },
  {
   "cell_type": "code",
   "execution_count": 101,
   "metadata": {},
   "outputs": [
    {
     "name": "stdout",
     "output_type": "stream",
     "text": [
      "Who is the president of united states?: 'The current president of the United States is Joe Biden since January 20, 2021.'\n",
      "What is the age of Joe Biden?: 'Joe Biden was born 79 years ago, on Friday, November 20, 1942.'\n",
      "What is the spouse of Joe Biden?: 'The spouses of Joe Biden are Neilla Hunter from 1966 to 1972 and Jill Biden since 1977.'\n"
     ]
    }
   ],
   "source": [
    "import re\n",
    "country = input(\"which country you have in mind?\").lower()\n",
    "question = f\"Who is the president of {country}?\"\n",
    "location = \"47.01,16.93\"\n",
    "query_url = f\"http://api.wolframalpha.com/v1/conversation.jsp?\" \\\n",
    "            f\"appid={appid}\" \\\n",
    "            f\"&i={question}\" \\\n",
    "\n",
    "r = requests.get(query_url).json()\n",
    "\n",
    "answer = r[\"result\"]\n",
    "president = re.split('is|since', answer)[1].strip()\n",
    "\n",
    "\n",
    "conversation_id = r[\"conversationID\"]\n",
    "host = r[\"host\"]\n",
    "\n",
    "print(f\"{question}: '{answer}'\")\n",
    "\n",
    "# Follow up Question 1\n",
    "followup_question = f\"What is the age of {president}?\"\n",
    "query_url = f\"http://{host}/api/v1/conversation.jsp?\" \\\n",
    "            f\"appid={appid}\" \\\n",
    "            f\"&conversationID={conversation_id}\" \\\n",
    "            f\"&i={followup_question}\" \\\n",
    "\n",
    "r = requests.get(query_url).json()\n",
    "try:\n",
    "    answer = r[\"result\"]\n",
    "    print(f\"{followup_question}: '{answer}'\")\n",
    "except:\n",
    "    print(\"What is the age of {president}: There is no data\")\n",
    "\n",
    "\n",
    "# Follow up Question 2\n",
    "conversation_id = r[\"conversationID\"]\n",
    "host = r[\"host\"]\n",
    "\n",
    "\n",
    "followup_question = f\"What is the spouse of {president}?\"\n",
    "query_url = f\"http://{host}/api/v1/conversation.jsp?\" \\\n",
    "            f\"appid={appid}\" \\\n",
    "            f\"&conversationID={conversation_id}\" \\\n",
    "            f\"&i={followup_question}\" \\\n",
    "\n",
    "r = requests.get(query_url).json()\n",
    "try:\n",
    "    answer = r[\"result\"]\n",
    "    print(f\"{followup_question}: '{answer}'\")\n",
    "except:\n",
    "    print(f\"What is the spouse of {president}?: There is no data\")\n"
   ]
  }
 ],
 "metadata": {
  "interpreter": {
   "hash": "0a477e406acbd2e5d181cdd122dfb51ff73acdf0b608e3a81bbfb62ac2a7a365"
  },
  "kernelspec": {
   "display_name": "Python 3.10.2 64-bit",
   "language": "python",
   "name": "python3"
  },
  "language_info": {
   "codemirror_mode": {
    "name": "ipython",
    "version": 3
   },
   "file_extension": ".py",
   "mimetype": "text/x-python",
   "name": "python",
   "nbconvert_exporter": "python",
   "pygments_lexer": "ipython3",
   "version": "3.10.2"
  },
  "orig_nbformat": 4
 },
 "nbformat": 4,
 "nbformat_minor": 2
}
