{
 "cells": [
  {
   "cell_type": "markdown",
   "metadata": {},
   "source": [
    "Using RegEx, process the following text, x3, and output the total number of cookies purchased.\n",
    "\n",
    "x3 = \"We purchased 11 cookies yesterday and paid $12.99 for them, and we bought 10 more today!\"\n",
    "\n",
    "Write your RegEx logic here\n",
    "cookies = ...\n",
    "...\n",
    "print(f'We have purchased a total of {sum(cookies)} cookies')\n",
    "\n",
    "Output --> We have purchased a total of 21"
   ]
  },
  {
   "cell_type": "code",
   "execution_count": null,
   "metadata": {},
   "outputs": [],
   "source": [
    "import re\n",
    "\n",
    "x3 = \"We purchased 11 cookies yesterday and paid $12.99 for them, and we bought 10 more today!\"\n",
    "sentence = re.split(\" \", x3)\n",
    "cookies = []\n",
    "\n",
    "for each in sentence:\n",
    "    try:\n",
    "        cookies.append(int(each))\n",
    "    except:\n",
    "        pass\n",
    "print(cookies)\n",
    "print(f'We have purchased a total of {sum(cookies)} cookies')"
   ]
  },
  {
   "cell_type": "markdown",
   "metadata": {},
   "source": [
    "We have a list of phone numbers, and we want to create a new list of “Maryland” numbers only - any number with a specified area code as defined by the “MD Area Codes”.  Implement Python code to output the list of MD numbers.\n",
    "\n",
    "MD_area_codes = [‘301’, ‘240’, ‘443’, ‘410’]\n",
    "\n",
    "Our list of phone numbers\n",
    "301-123-1234\n",
    "703-123-4545\n",
    "410-888-9765\n",
    "571-246-1111\n",
    "202-111-9876\n",
    "240-555-3322\n",
    "443-678-2468\n",
    "\n",
    "Expected list of MD numbers -\n",
    "301-123-1234\n",
    "410-888-9765\n",
    "240-555-3322\n",
    "443-678-2468"
   ]
  },
  {
   "cell_type": "code",
   "execution_count": null,
   "metadata": {},
   "outputs": [],
   "source": [
    "MD_area_codes = ['301', '240', '443', '410']\n",
    "list_numbers = ['301-123-1234'\n",
    ",'703-123-4545',\n",
    "'410-888-9765',\n",
    "'571-246-1111',\n",
    "'202-111-9876',\n",
    "'240-555-3322',\n",
    "'443-678-2468']\n",
    "\n",
    "print(list_numbers)\n",
    "\n",
    "for i in range(len(MD_area_codes)):\n",
    "    for each in list_numbers:\n",
    "        if each.find(MD_area_codes[i]) >= 0:\n",
    "            print(each)"
   ]
  },
  {
   "cell_type": "markdown",
   "metadata": {},
   "source": [
    "Write a function, zero_sum, that will accepts any number of integer arguments. The function should return True if the sum of its arguments is zero; otherwise, it should return False.\n",
    "\n",
    "Here are some of examples of calling the function -\n",
    "      + zero_sum(2, 3, -5) would evaluate to True, since 2 + 3 + -5 = 0\n",
    "      + zero_sum(2, 3, -10, 4) evaluates to False because 2 + 3 + -10 + 4 = 1 \n",
    "      + zero_sum() should return True since it’s called with no arguments"
   ]
  },
  {
   "cell_type": "code",
   "execution_count": null,
   "metadata": {},
   "outputs": [],
   "source": [
    "def zero_sum(*args):\n",
    "    sum = int()\n",
    "    for i in range(len(args)):\n",
    "        sum = sum + args[i]\n",
    "    if sum == 0 or None:\n",
    "        return True\n",
    "    else:\n",
    "        return False\n",
    "\n",
    "print(zero_sum())"
   ]
  },
  {
   "cell_type": "markdown",
   "metadata": {},
   "source": [
    "Extract the below (expected) output from the below dictionary, Breakfast:\n",
    "\n",
    "Breakfast = {'spam':2, 'ham':1, 'eggs':3, 'bacons':2, ‘toasts’:2}\n",
    "\n",
    "STU TO DO: Implement your logic here\n",
    "\n",
    "OUTPUT --> ['spam', 'egg', ‘toasts’]"
   ]
  },
  {
   "cell_type": "code",
   "execution_count": null,
   "metadata": {},
   "outputs": [],
   "source": [
    "breakfast_list = list()\n",
    "Breakfast = {'spam':2, 'ham':1, 'eggs':3, 'bacons':2, 'toasts':2}\n",
    "for key in Breakfast.keys():\n",
    "    breakfast_list.append(key)\n",
    "\n",
    "print(breakfast_list)\n",
    "desired = ['spam', 'eggs', 'toasts']\n",
    "\n",
    "output = list()\n",
    "for each in breakfast_list:\n",
    "    if each in desired:\n",
    "        output.append(each)\n",
    "\n",
    "print(output)"
   ]
  },
  {
   "cell_type": "markdown",
   "metadata": {},
   "source": [
    "Suppose xyz = {\"gary\":50, \"andrew\":20}, what happens when you attempt to retrieve a value, tracy, using xyz.get(\"tracy\")? (Select one or more choices that best answer the question.)"
   ]
  },
  {
   "cell_type": "code",
   "execution_count": null,
   "metadata": {},
   "outputs": [],
   "source": [
    "xyz = {\"gary\":50, \"andrew\":20}\n",
    "\n",
    "print(xyz.get(\"tracy\"))"
   ]
  }
 ],
 "metadata": {
  "interpreter": {
   "hash": "2088dbe8d3838dbe5771febb0e5d42607d9fb301109e152a7ab3e28202bd6074"
  },
  "kernelspec": {
   "display_name": "Python 3.10.2 64-bit",
   "language": "python",
   "name": "python3"
  },
  "language_info": {
   "codemirror_mode": {
    "name": "ipython",
    "version": 3
   },
   "file_extension": ".py",
   "mimetype": "text/x-python",
   "name": "python",
   "nbconvert_exporter": "python",
   "pygments_lexer": "ipython3",
   "version": "3.10.2"
  },
  "orig_nbformat": 4
 },
 "nbformat": 4,
 "nbformat_minor": 2
}
