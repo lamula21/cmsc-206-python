{
  "cells": [
    {
      "cell_type": "markdown",
      "metadata": {
        "id": "L_FEVvMIRmED"
      },
      "source": [
        "Sprintg 22 | Exam 2 | Hands-on Activities\n",
        "\n",
        "\n",
        "*   Each student MUST implement **Python code as their responses** for all hands-on activities.  That's how each activity will be graded.\n",
        "\n"
      ]
    },
    {
      "cell_type": "code",
      "execution_count": 1,
      "metadata": {
        "id": "INQIDgVp2s4e"
      },
      "outputs": [],
      "source": [
        "import pandas as pd\n",
        "import numpy as np\n",
        "import matplotlib.pyplot as plt\n",
        "import urllib.request, urllib.parse, urllib.error, json\n",
        "import pandas as pd\n",
        "import requests\n",
        "import re\n"
      ]
    },
    {
      "cell_type": "markdown",
      "metadata": {
        "id": "ysXl9mFb73LD"
      },
      "source": [
        "[1][10 Points] Create a new DataFrame (**df**) from the provided dataset, **salaries-14B.csv**.  The **df** should only contain a subset of data from the csv file, and it will be utilized by a set of the subsequence questions.\n",
        "*   The **df** should contain only 500 rows and columns of intormation from the data file (NOT the entire file).  \n",
        "*   Your data (rows of information) should be similar, but it **will most likely not** match my extracted data (as shown).  "
      ]
    },
    {
      "cell_type": "code",
      "execution_count": 2,
      "metadata": {
        "colab": {
          "base_uri": "https://localhost:8080/"
        },
        "id": "Gahkc_IV3EBe",
        "outputId": "7a2d4020-2ae1-4d5e-86e5-d6b3c50e39cc"
      },
      "outputs": [
        {
          "name": "stdout",
          "output_type": "stream",
          "text": [
            "<class 'pandas.core.frame.DataFrame'>\n",
            "RangeIndex: 500 entries, 0 to 499\n",
            "Data columns (total 8 columns):\n",
            " #   Column        Non-Null Count  Dtype  \n",
            "---  ------        --------------  -----  \n",
            " 0   ID            500 non-null    int64  \n",
            " 1   Title         500 non-null    object \n",
            " 2   Pay           500 non-null    float64\n",
            " 3   OT Pay        500 non-null    float64\n",
            " 4   Other Pay     500 non-null    float64\n",
            " 5   Benefits      500 non-null    float64\n",
            " 6   Compensation  500 non-null    float64\n",
            " 7   Employment    500 non-null    object \n",
            "dtypes: float64(5), int64(1), object(2)\n",
            "memory usage: 31.4+ KB\n"
          ]
        },
        {
          "data": {
            "text/html": [
              "<div>\n",
              "<style scoped>\n",
              "    .dataframe tbody tr th:only-of-type {\n",
              "        vertical-align: middle;\n",
              "    }\n",
              "\n",
              "    .dataframe tbody tr th {\n",
              "        vertical-align: top;\n",
              "    }\n",
              "\n",
              "    .dataframe thead th {\n",
              "        text-align: right;\n",
              "    }\n",
              "</style>\n",
              "<table border=\"1\" class=\"dataframe\">\n",
              "  <thead>\n",
              "    <tr style=\"text-align: right;\">\n",
              "      <th></th>\n",
              "      <th>ID</th>\n",
              "      <th>Title</th>\n",
              "      <th>Pay</th>\n",
              "      <th>OT Pay</th>\n",
              "      <th>Other Pay</th>\n",
              "      <th>Benefits</th>\n",
              "      <th>Compensation</th>\n",
              "      <th>Employment</th>\n",
              "    </tr>\n",
              "  </thead>\n",
              "  <tbody>\n",
              "    <tr>\n",
              "      <th>0</th>\n",
              "      <td>110532</td>\n",
              "      <td>Deputy Chief 3</td>\n",
              "      <td>129150.01</td>\n",
              "      <td>0.00</td>\n",
              "      <td>342802.63</td>\n",
              "      <td>38780.04</td>\n",
              "      <td>510732.68</td>\n",
              "      <td>PT</td>\n",
              "    </tr>\n",
              "    <tr>\n",
              "      <th>1</th>\n",
              "      <td>110533</td>\n",
              "      <td>Asst Med Examiner</td>\n",
              "      <td>318835.49</td>\n",
              "      <td>10712.95</td>\n",
              "      <td>60563.54</td>\n",
              "      <td>89540.23</td>\n",
              "      <td>479652.21</td>\n",
              "      <td>HOURLY</td>\n",
              "    </tr>\n",
              "    <tr>\n",
              "      <th>2</th>\n",
              "      <td>110534</td>\n",
              "      <td>Chief Investment Officer</td>\n",
              "      <td>257340.00</td>\n",
              "      <td>0.00</td>\n",
              "      <td>82313.70</td>\n",
              "      <td>96570.66</td>\n",
              "      <td>436224.36</td>\n",
              "      <td>PT</td>\n",
              "    </tr>\n",
              "    <tr>\n",
              "      <th>3</th>\n",
              "      <td>110535</td>\n",
              "      <td>Chief of Police</td>\n",
              "      <td>307450.04</td>\n",
              "      <td>0.00</td>\n",
              "      <td>19266.72</td>\n",
              "      <td>91302.46</td>\n",
              "      <td>418019.22</td>\n",
              "      <td>FT</td>\n",
              "    </tr>\n",
              "    <tr>\n",
              "      <th>4</th>\n",
              "      <td>110536</td>\n",
              "      <td>Chief, Fire Department</td>\n",
              "      <td>302068.00</td>\n",
              "      <td>0.00</td>\n",
              "      <td>24165.44</td>\n",
              "      <td>91201.66</td>\n",
              "      <td>417435.10</td>\n",
              "      <td>FT</td>\n",
              "    </tr>\n",
              "    <tr>\n",
              "      <th>...</th>\n",
              "      <td>...</td>\n",
              "      <td>...</td>\n",
              "      <td>...</td>\n",
              "      <td>...</td>\n",
              "      <td>...</td>\n",
              "      <td>...</td>\n",
              "      <td>...</td>\n",
              "      <td>...</td>\n",
              "    </tr>\n",
              "    <tr>\n",
              "      <th>495</th>\n",
              "      <td>111027</td>\n",
              "      <td>Captain, Emergency Med Svcs</td>\n",
              "      <td>148162.59</td>\n",
              "      <td>35333.35</td>\n",
              "      <td>21059.75</td>\n",
              "      <td>50681.68</td>\n",
              "      <td>255237.37</td>\n",
              "      <td>FT</td>\n",
              "    </tr>\n",
              "    <tr>\n",
              "      <th>496</th>\n",
              "      <td>111028</td>\n",
              "      <td>Senior Physician Specialist</td>\n",
              "      <td>198874.00</td>\n",
              "      <td>0.00</td>\n",
              "      <td>0.00</td>\n",
              "      <td>56331.21</td>\n",
              "      <td>255205.21</td>\n",
              "      <td>FT</td>\n",
              "    </tr>\n",
              "    <tr>\n",
              "      <th>497</th>\n",
              "      <td>111029</td>\n",
              "      <td>Nursing Supervisor</td>\n",
              "      <td>180906.58</td>\n",
              "      <td>0.00</td>\n",
              "      <td>18090.66</td>\n",
              "      <td>56205.61</td>\n",
              "      <td>255202.85</td>\n",
              "      <td>FT</td>\n",
              "    </tr>\n",
              "    <tr>\n",
              "      <th>498</th>\n",
              "      <td>111030</td>\n",
              "      <td>Lieutenant, Fire Suppression</td>\n",
              "      <td>135225.54</td>\n",
              "      <td>64223.04</td>\n",
              "      <td>9780.84</td>\n",
              "      <td>45961.56</td>\n",
              "      <td>255190.98</td>\n",
              "      <td>FT</td>\n",
              "    </tr>\n",
              "    <tr>\n",
              "      <th>499</th>\n",
              "      <td>111031</td>\n",
              "      <td>Captain, Fire Suppression</td>\n",
              "      <td>148121.11</td>\n",
              "      <td>31134.28</td>\n",
              "      <td>23255.75</td>\n",
              "      <td>52508.85</td>\n",
              "      <td>255019.99</td>\n",
              "      <td>FT</td>\n",
              "    </tr>\n",
              "  </tbody>\n",
              "</table>\n",
              "<p>500 rows × 8 columns</p>\n",
              "</div>"
            ],
            "text/plain": [
              "         ID                         Title        Pay    OT Pay  Other Pay  \\\n",
              "0    110532                Deputy Chief 3  129150.01      0.00  342802.63   \n",
              "1    110533             Asst Med Examiner  318835.49  10712.95   60563.54   \n",
              "2    110534      Chief Investment Officer  257340.00      0.00   82313.70   \n",
              "3    110535               Chief of Police  307450.04      0.00   19266.72   \n",
              "4    110536        Chief, Fire Department  302068.00      0.00   24165.44   \n",
              "..      ...                           ...        ...       ...        ...   \n",
              "495  111027   Captain, Emergency Med Svcs  148162.59  35333.35   21059.75   \n",
              "496  111028   Senior Physician Specialist  198874.00      0.00       0.00   \n",
              "497  111029            Nursing Supervisor  180906.58      0.00   18090.66   \n",
              "498  111030  Lieutenant, Fire Suppression  135225.54  64223.04    9780.84   \n",
              "499  111031     Captain, Fire Suppression  148121.11  31134.28   23255.75   \n",
              "\n",
              "     Benefits  Compensation Employment  \n",
              "0    38780.04     510732.68         PT  \n",
              "1    89540.23     479652.21     HOURLY  \n",
              "2    96570.66     436224.36         PT  \n",
              "3    91302.46     418019.22         FT  \n",
              "4    91201.66     417435.10         FT  \n",
              "..        ...           ...        ...  \n",
              "495  50681.68     255237.37         FT  \n",
              "496  56331.21     255205.21         FT  \n",
              "497  56205.61     255202.85         FT  \n",
              "498  45961.56     255190.98         FT  \n",
              "499  52508.85     255019.99         FT  \n",
              "\n",
              "[500 rows x 8 columns]"
            ]
          },
          "execution_count": 2,
          "metadata": {},
          "output_type": "execute_result"
        }
      ],
      "source": [
        "# STU TODO: Create a new df as specified by -\n",
        "# + import (only) a subset of data (500 rows of ID, Title, Pay, Other Pay, Benefits and Employment) from the csv data file\n",
        "# + display the info\n",
        "\n",
        "df = pd.read_csv('salaries-14B.csv').head(500)\n",
        "df.info()\n",
        "\n",
        "df\n"
      ]
    },
    {
      "cell_type": "markdown",
      "metadata": {
        "id": "lUXT0vHMvcS5"
      },
      "source": [
        "[2][10 Points] Compute the total pay of each \"person (ID)\".  Total Pay = Pay + Other Pay.\n",
        "\n"
      ]
    },
    {
      "cell_type": "code",
      "execution_count": 3,
      "metadata": {
        "colab": {
          "base_uri": "https://localhost:8080/",
          "height": 206
        },
        "id": "IaWY9s3tsQkN",
        "outputId": "823be5a5-bb1f-401b-9057-43655a454c08"
      },
      "outputs": [
        {
          "data": {
            "text/html": [
              "<div>\n",
              "<style scoped>\n",
              "    .dataframe tbody tr th:only-of-type {\n",
              "        vertical-align: middle;\n",
              "    }\n",
              "\n",
              "    .dataframe tbody tr th {\n",
              "        vertical-align: top;\n",
              "    }\n",
              "\n",
              "    .dataframe thead th {\n",
              "        text-align: right;\n",
              "    }\n",
              "</style>\n",
              "<table border=\"1\" class=\"dataframe\">\n",
              "  <thead>\n",
              "    <tr style=\"text-align: right;\">\n",
              "      <th></th>\n",
              "      <th>ID</th>\n",
              "      <th>Title</th>\n",
              "      <th>Pay</th>\n",
              "      <th>OT Pay</th>\n",
              "      <th>Other Pay</th>\n",
              "      <th>Benefits</th>\n",
              "      <th>Compensation</th>\n",
              "      <th>Employment</th>\n",
              "      <th>Total Pay</th>\n",
              "    </tr>\n",
              "  </thead>\n",
              "  <tbody>\n",
              "    <tr>\n",
              "      <th>0</th>\n",
              "      <td>110532</td>\n",
              "      <td>Deputy Chief 3</td>\n",
              "      <td>129150.01</td>\n",
              "      <td>0.00</td>\n",
              "      <td>342802.63</td>\n",
              "      <td>38780.04</td>\n",
              "      <td>510732.68</td>\n",
              "      <td>PT</td>\n",
              "      <td>471952.64</td>\n",
              "    </tr>\n",
              "    <tr>\n",
              "      <th>1</th>\n",
              "      <td>110533</td>\n",
              "      <td>Asst Med Examiner</td>\n",
              "      <td>318835.49</td>\n",
              "      <td>10712.95</td>\n",
              "      <td>60563.54</td>\n",
              "      <td>89540.23</td>\n",
              "      <td>479652.21</td>\n",
              "      <td>HOURLY</td>\n",
              "      <td>379399.03</td>\n",
              "    </tr>\n",
              "    <tr>\n",
              "      <th>2</th>\n",
              "      <td>110534</td>\n",
              "      <td>Chief Investment Officer</td>\n",
              "      <td>257340.00</td>\n",
              "      <td>0.00</td>\n",
              "      <td>82313.70</td>\n",
              "      <td>96570.66</td>\n",
              "      <td>436224.36</td>\n",
              "      <td>PT</td>\n",
              "      <td>339653.70</td>\n",
              "    </tr>\n",
              "    <tr>\n",
              "      <th>3</th>\n",
              "      <td>110535</td>\n",
              "      <td>Chief of Police</td>\n",
              "      <td>307450.04</td>\n",
              "      <td>0.00</td>\n",
              "      <td>19266.72</td>\n",
              "      <td>91302.46</td>\n",
              "      <td>418019.22</td>\n",
              "      <td>FT</td>\n",
              "      <td>326716.76</td>\n",
              "    </tr>\n",
              "    <tr>\n",
              "      <th>4</th>\n",
              "      <td>110536</td>\n",
              "      <td>Chief, Fire Department</td>\n",
              "      <td>302068.00</td>\n",
              "      <td>0.00</td>\n",
              "      <td>24165.44</td>\n",
              "      <td>91201.66</td>\n",
              "      <td>417435.10</td>\n",
              "      <td>FT</td>\n",
              "      <td>326233.44</td>\n",
              "    </tr>\n",
              "  </tbody>\n",
              "</table>\n",
              "</div>"
            ],
            "text/plain": [
              "       ID                     Title        Pay    OT Pay  Other Pay  Benefits  \\\n",
              "0  110532            Deputy Chief 3  129150.01      0.00  342802.63  38780.04   \n",
              "1  110533         Asst Med Examiner  318835.49  10712.95   60563.54  89540.23   \n",
              "2  110534  Chief Investment Officer  257340.00      0.00   82313.70  96570.66   \n",
              "3  110535           Chief of Police  307450.04      0.00   19266.72  91302.46   \n",
              "4  110536    Chief, Fire Department  302068.00      0.00   24165.44  91201.66   \n",
              "\n",
              "   Compensation Employment  Total Pay  \n",
              "0     510732.68         PT  471952.64  \n",
              "1     479652.21     HOURLY  379399.03  \n",
              "2     436224.36         PT  339653.70  \n",
              "3     418019.22         FT  326716.76  \n",
              "4     417435.10         FT  326233.44  "
            ]
          },
          "execution_count": 3,
          "metadata": {},
          "output_type": "execute_result"
        }
      ],
      "source": [
        "#\n",
        "# STU To Do: Create a new colum ToTal Pay = Pay + Other Pay\n",
        "#\n",
        "Total_Pay = df[\"Pay\"] + df[\"Other Pay\"]\n",
        "df[\"Total Pay\"] = Total_Pay\n",
        "df.head()"
      ]
    },
    {
      "cell_type": "markdown",
      "metadata": {
        "id": "LFg8BrVTJqyz"
      },
      "source": [
        "[3][10 Points] Create the following chart using the **df**.  Blue represents the Total Pay, while Orange represents the Benefits.  (Your colors can be different).  Be sure to specify the chart title"
      ]
    },
    {
      "cell_type": "code",
      "execution_count": 4,
      "metadata": {
        "colab": {
          "base_uri": "https://localhost:8080/",
          "height": 298
        },
        "id": "VxxDp7gbY8Qc",
        "outputId": "855fe024-a4b2-43f6-e8a3-688c913631e6"
      },
      "outputs": [
        {
          "data": {
            "text/plain": [
              "[<matplotlib.lines.Line2D at 0x2b42de1e4a0>]"
            ]
          },
          "execution_count": 4,
          "metadata": {},
          "output_type": "execute_result"
        },
        {
          "data": {
            "image/png": "[encoded data removed]",
            "text/plain": [
              "<Figure size 432x288 with 1 Axes>"
            ]
          },
          "metadata": {},
          "output_type": "display_data"
        }
      ],
      "source": [
        "# STU To Do: Implement your logic \n",
        "plt.plot(df['Total Pay'])\n",
        "plt.plot(df['Benefits'])"
      ]
    },
    {
      "cell_type": "markdown",
      "metadata": {
        "id": "thVuqt_H-uma"
      },
      "source": [
        "[4][10 Points] What are the **seven highest Total Pays**? (Yours does not have to match my findings).  "
      ]
    },
    {
      "cell_type": "code",
      "execution_count": 5,
      "metadata": {
        "colab": {
          "base_uri": "https://localhost:8080/"
        },
        "id": "caALHxjkTX94",
        "outputId": "582b5003-563e-400e-b0b4-683adc824c4a"
      },
      "outputs": [
        {
          "data": {
            "text/html": [
              "<div>\n",
              "<style scoped>\n",
              "    .dataframe tbody tr th:only-of-type {\n",
              "        vertical-align: middle;\n",
              "    }\n",
              "\n",
              "    .dataframe tbody tr th {\n",
              "        vertical-align: top;\n",
              "    }\n",
              "\n",
              "    .dataframe thead th {\n",
              "        text-align: right;\n",
              "    }\n",
              "</style>\n",
              "<table border=\"1\" class=\"dataframe\">\n",
              "  <thead>\n",
              "    <tr style=\"text-align: right;\">\n",
              "      <th></th>\n",
              "      <th>ID</th>\n",
              "      <th>Title</th>\n",
              "      <th>Pay</th>\n",
              "      <th>OT Pay</th>\n",
              "      <th>Other Pay</th>\n",
              "      <th>Benefits</th>\n",
              "      <th>Compensation</th>\n",
              "      <th>Employment</th>\n",
              "      <th>Total Pay</th>\n",
              "    </tr>\n",
              "  </thead>\n",
              "  <tbody>\n",
              "    <tr>\n",
              "      <th>0</th>\n",
              "      <td>110532</td>\n",
              "      <td>Deputy Chief 3</td>\n",
              "      <td>129150.01</td>\n",
              "      <td>0.00</td>\n",
              "      <td>342802.63</td>\n",
              "      <td>38780.04</td>\n",
              "      <td>510732.68</td>\n",
              "      <td>PT</td>\n",
              "      <td>471952.64</td>\n",
              "    </tr>\n",
              "    <tr>\n",
              "      <th>1</th>\n",
              "      <td>110533</td>\n",
              "      <td>Asst Med Examiner</td>\n",
              "      <td>318835.49</td>\n",
              "      <td>10712.95</td>\n",
              "      <td>60563.54</td>\n",
              "      <td>89540.23</td>\n",
              "      <td>479652.21</td>\n",
              "      <td>HOURLY</td>\n",
              "      <td>379399.03</td>\n",
              "    </tr>\n",
              "    <tr>\n",
              "      <th>2</th>\n",
              "      <td>110534</td>\n",
              "      <td>Chief Investment Officer</td>\n",
              "      <td>257340.00</td>\n",
              "      <td>0.00</td>\n",
              "      <td>82313.70</td>\n",
              "      <td>96570.66</td>\n",
              "      <td>436224.36</td>\n",
              "      <td>PT</td>\n",
              "      <td>339653.70</td>\n",
              "    </tr>\n",
              "    <tr>\n",
              "      <th>5</th>\n",
              "      <td>110537</td>\n",
              "      <td>Asst Med Examiner</td>\n",
              "      <td>270222.04</td>\n",
              "      <td>6009.22</td>\n",
              "      <td>67956.20</td>\n",
              "      <td>71580.48</td>\n",
              "      <td>415767.94</td>\n",
              "      <td>HOURLY</td>\n",
              "      <td>338178.24</td>\n",
              "    </tr>\n",
              "    <tr>\n",
              "      <th>3</th>\n",
              "      <td>110535</td>\n",
              "      <td>Chief of Police</td>\n",
              "      <td>307450.04</td>\n",
              "      <td>0.00</td>\n",
              "      <td>19266.72</td>\n",
              "      <td>91302.46</td>\n",
              "      <td>418019.22</td>\n",
              "      <td>FT</td>\n",
              "      <td>326716.76</td>\n",
              "    </tr>\n",
              "    <tr>\n",
              "      <th>4</th>\n",
              "      <td>110536</td>\n",
              "      <td>Chief, Fire Department</td>\n",
              "      <td>302068.00</td>\n",
              "      <td>0.00</td>\n",
              "      <td>24165.44</td>\n",
              "      <td>91201.66</td>\n",
              "      <td>417435.10</td>\n",
              "      <td>FT</td>\n",
              "      <td>326233.44</td>\n",
              "    </tr>\n",
              "    <tr>\n",
              "      <th>12</th>\n",
              "      <td>110544</td>\n",
              "      <td>Commander 3</td>\n",
              "      <td>184734.01</td>\n",
              "      <td>0.00</td>\n",
              "      <td>137409.09</td>\n",
              "      <td>51940.39</td>\n",
              "      <td>374083.49</td>\n",
              "      <td>PT</td>\n",
              "      <td>322143.10</td>\n",
              "    </tr>\n",
              "  </tbody>\n",
              "</table>\n",
              "</div>"
            ],
            "text/plain": [
              "        ID                     Title        Pay    OT Pay  Other Pay  \\\n",
              "0   110532            Deputy Chief 3  129150.01      0.00  342802.63   \n",
              "1   110533         Asst Med Examiner  318835.49  10712.95   60563.54   \n",
              "2   110534  Chief Investment Officer  257340.00      0.00   82313.70   \n",
              "5   110537         Asst Med Examiner  270222.04   6009.22   67956.20   \n",
              "3   110535           Chief of Police  307450.04      0.00   19266.72   \n",
              "4   110536    Chief, Fire Department  302068.00      0.00   24165.44   \n",
              "12  110544               Commander 3  184734.01      0.00  137409.09   \n",
              "\n",
              "    Benefits  Compensation Employment  Total Pay  \n",
              "0   38780.04     510732.68         PT  471952.64  \n",
              "1   89540.23     479652.21     HOURLY  379399.03  \n",
              "2   96570.66     436224.36         PT  339653.70  \n",
              "5   71580.48     415767.94     HOURLY  338178.24  \n",
              "3   91302.46     418019.22         FT  326716.76  \n",
              "4   91201.66     417435.10         FT  326233.44  \n",
              "12  51940.39     374083.49         PT  322143.10  "
            ]
          },
          "execution_count": 5,
          "metadata": {},
          "output_type": "execute_result"
        }
      ],
      "source": [
        "# STU To Do: Implement your logic (Your )\n",
        "new_df = df.sort_values(['Total Pay'], ascending=False).head(7)\n",
        "new_df\n"
      ]
    },
    {
      "cell_type": "markdown",
      "metadata": {
        "id": "zJClkig0_-8a"
      },
      "source": [
        "[5][10 Points] Create the following bar chart for the **seven highest Total Pays**."
      ]
    },
    {
      "cell_type": "code",
      "execution_count": 6,
      "metadata": {
        "colab": {
          "base_uri": "https://localhost:8080/",
          "height": 281
        },
        "id": "BZcV1v4rUgaE",
        "outputId": "898d3508-4bdd-4ce5-c44b-d8d54a2c2616"
      },
      "outputs": [
        {
          "data": {
            "image/png": "[encoded data removed]",
            "text/plain": [
              "<Figure size 432x288 with 1 Axes>"
            ]
          },
          "metadata": {},
          "output_type": "display_data"
        }
      ],
      "source": [
        "# STU To Do: Implement your logic \n",
        "highest = new_df[['Total Pay']]\n",
        "\n",
        "highest\n",
        "\n",
        "highest['Total Pay'].plot.barh()\n",
        "plt.tick_params(rotation=45)\n",
        "plt.show()\n"
      ]
    },
    {
      "cell_type": "markdown",
      "metadata": {
        "id": "J1SQdfMpAKpE"
      },
      "source": [
        "[6][10 Points] What are the Employment status (of your dataset)?"
      ]
    },
    {
      "cell_type": "code",
      "execution_count": 7,
      "metadata": {
        "colab": {
          "base_uri": "https://localhost:8080/",
          "height": 175
        },
        "id": "bxNwz65E-P9v",
        "outputId": "f2ca942d-f20e-4342-8c57-27bb1ea1e4bc"
      },
      "outputs": [
        {
          "data": {
            "text/html": [
              "<div>\n",
              "<style scoped>\n",
              "    .dataframe tbody tr th:only-of-type {\n",
              "        vertical-align: middle;\n",
              "    }\n",
              "\n",
              "    .dataframe tbody tr th {\n",
              "        vertical-align: top;\n",
              "    }\n",
              "\n",
              "    .dataframe thead th {\n",
              "        text-align: right;\n",
              "    }\n",
              "</style>\n",
              "<table border=\"1\" class=\"dataframe\">\n",
              "  <thead>\n",
              "    <tr style=\"text-align: right;\">\n",
              "      <th></th>\n",
              "      <th>Employment</th>\n",
              "      <th>Pay</th>\n",
              "    </tr>\n",
              "  </thead>\n",
              "  <tbody>\n",
              "    <tr>\n",
              "      <th>0</th>\n",
              "      <td>FT</td>\n",
              "      <td>403</td>\n",
              "    </tr>\n",
              "    <tr>\n",
              "      <th>1</th>\n",
              "      <td>HOURLY</td>\n",
              "      <td>70</td>\n",
              "    </tr>\n",
              "    <tr>\n",
              "      <th>2</th>\n",
              "      <td>PT</td>\n",
              "      <td>27</td>\n",
              "    </tr>\n",
              "  </tbody>\n",
              "</table>\n",
              "</div>"
            ],
            "text/plain": [
              "  Employment  Pay\n",
              "0         FT  403\n",
              "1     HOURLY   70\n",
              "2         PT   27"
            ]
          },
          "execution_count": 7,
          "metadata": {},
          "output_type": "execute_result"
        }
      ],
      "source": [
        "# STU To Do: Implement your logic \n",
        "# Your percentage of FT, PT and HOURLY will be different\n",
        "df.describe()\n",
        "new_df = df.groupby(['Employment']).count()[['Pay']]\n",
        "new_df = new_df.reset_index()\n",
        "new_df"
      ]
    },
    {
      "cell_type": "markdown",
      "metadata": {
        "id": "CPz-3j0RAW7Z"
      },
      "source": [
        "[7][10 Points] Create the following pie chart representing the Employment Status"
      ]
    },
    {
      "cell_type": "code",
      "execution_count": 8,
      "metadata": {
        "colab": {
          "base_uri": "https://localhost:8080/",
          "height": 303
        },
        "id": "-lUtnhkQ_LoW",
        "outputId": "52f78671-fec9-4b73-b911-c7ec9292e994"
      },
      "outputs": [
        {
          "data": {
            "image/png": "[encoded data removed]",
            "text/plain": [
              "<Figure size 432x288 with 1 Axes>"
            ]
          },
          "metadata": {},
          "output_type": "display_data"
        }
      ],
      "source": [
        "  # STU To Do: Implement your logic \n",
        "\n",
        "  # Note: My labels are incorrect.  Did not have a chance to fix it.\n",
        "fig, ax = plt.subplots()\n",
        "ax.pie(new_df[\"Pay\"].tolist(), labels=new_df[\"Employment\"].tolist(), colors=[\"green\", \"orange\", \"blue\"], autopct='%1.1f%%',\n",
        "        shadow=True, startangle=45)\n",
        "ax.axis('equal')  # Equal aspect ratio ensures that pie is drawn as a circle.\n",
        "plt.show()\n"
      ]
    },
    {
      "cell_type": "markdown",
      "metadata": {
        "id": "VuATE1y3Afub"
      },
      "source": [
        "[8][10 Points] Create a Histogram representing the Benefits between \\$10,000 and \\$100,000"
      ]
    },
    {
      "cell_type": "code",
      "execution_count": 9,
      "metadata": {
        "colab": {
          "base_uri": "https://localhost:8080/",
          "height": 281
        },
        "id": "sOrYAx7v-xFx",
        "outputId": "a4b1b799-d678-403a-cfd7-b429ca376943"
      },
      "outputs": [
        {
          "data": {
            "text/plain": [
              "Text(0, 0.5, 'Frequency')"
            ]
          },
          "execution_count": 9,
          "metadata": {},
          "output_type": "execute_result"
        },
        {
          "data": {
            "image/png": "[encoded data removed]",
            "text/plain": [
              "<Figure size 432x288 with 1 Axes>"
            ]
          },
          "metadata": {},
          "output_type": "display_data"
        }
      ],
      "source": [
        "# STU To Do: Implement your logic \n",
        "df = pd.read_csv(\"salaries-14B.csv\")\n",
        "\n",
        "benefit_selection = (10000,100000)\n",
        "mask = df['Benefits'].between(*benefit_selection)\n",
        "new_data = df[mask][[\"Benefits\"]]\n",
        "\n",
        "\n",
        "plt.hist(new_data)\n",
        "plt.title('Histogram of Benefits Between $10,000 and $100,000')\n",
        "plt.xlabel('Data')\n",
        "plt.ylabel('Frequency')\n",
        "\n"
      ]
    },
    {
      "cell_type": "markdown",
      "metadata": {
        "id": "XgJApfCWhUuO"
      },
      "source": [
        "Part B -- UMD API:\n",
        "Check out the following URL to learn more about the UMD API\n",
        "*   https://beta.umd.io/\n",
        "*   \n",
        "\n"
      ]
    },
    {
      "cell_type": "markdown",
      "metadata": {
        "id": "dXHw-eu0x6KB"
      },
      "source": [
        "[9][10 Points] Display all of the COMM courses that Professor Aaron Hood has taught (and will be teaching)?"
      ]
    },
    {
      "cell_type": "code",
      "execution_count": 10,
      "metadata": {
        "colab": {
          "base_uri": "https://localhost:8080/"
        },
        "id": "N4Xcb4PEqZbZ",
        "outputId": "5ac1cd3c-b22e-4d2e-c84d-2ac8d1591172"
      },
      "outputs": [
        {
          "data": {
            "text/html": [
              "<div>\n",
              "<style scoped>\n",
              "    .dataframe tbody tr th:only-of-type {\n",
              "        vertical-align: middle;\n",
              "    }\n",
              "\n",
              "    .dataframe tbody tr th {\n",
              "        vertical-align: top;\n",
              "    }\n",
              "\n",
              "    .dataframe thead th {\n",
              "        text-align: right;\n",
              "    }\n",
              "</style>\n",
              "<table border=\"1\" class=\"dataframe\">\n",
              "  <thead>\n",
              "    <tr style=\"text-align: right;\">\n",
              "      <th></th>\n",
              "      <th>name</th>\n",
              "      <th>taught</th>\n",
              "    </tr>\n",
              "  </thead>\n",
              "  <tbody>\n",
              "    <tr>\n",
              "      <th>0</th>\n",
              "      <td>Aaron Hood</td>\n",
              "      <td>{'course_id': 'HESI470', 'semester': '201901'}</td>\n",
              "    </tr>\n",
              "    <tr>\n",
              "      <th>1</th>\n",
              "      <td>Aaron Hood</td>\n",
              "      <td>{'course_id': 'EDHI338L', 'semester': '201908'}</td>\n",
              "    </tr>\n",
              "    <tr>\n",
              "      <th>2</th>\n",
              "      <td>Aaron Hood</td>\n",
              "      <td>{'course_id': 'HESI470', 'semester': '202001'}</td>\n",
              "    </tr>\n",
              "  </tbody>\n",
              "</table>\n",
              "</div>"
            ],
            "text/plain": [
              "         name                                           taught\n",
              "0  Aaron Hood   {'course_id': 'HESI470', 'semester': '201901'}\n",
              "1  Aaron Hood  {'course_id': 'EDHI338L', 'semester': '201908'}\n",
              "2  Aaron Hood   {'course_id': 'HESI470', 'semester': '202001'}"
            ]
          },
          "execution_count": 10,
          "metadata": {},
          "output_type": "execute_result"
        }
      ],
      "source": [
        "# STU To Do: Implement your logic \n",
        "professors = 'https://api.umd.io/v1/professors'\n",
        "\n",
        "\n",
        "# # 1) Get API\n",
        "# response = requests.get(professors)     # Get 200 response (Request passed))\n",
        "# api = response.json()                   # Convert the data into JSON\n",
        "# #print( json.dumps( api, indent=2))      # Print formatted JSON file\n",
        "\n",
        "\n",
        "\n",
        "\n",
        "# # 2) First Approach - Convert API to Dataframe and Locate prof==\"Aaron Hood\" to display its classes\n",
        "# api_df = pd.DataFrame(api)\n",
        "\n",
        "# classes = api_df.query('name == \"Aaron Hood\"')[['taught']].reset_index()  # Extract Column Value Based on Another Column\n",
        "# ## --> Gives an dataframe with one row of all Aaron Hood's classes\n",
        "\n",
        "# taught_list = classes['taught'].tolist()    # Take the row and convert it to list\n",
        "# taught_list = [  subeach for each in taught_list for subeach in each  ]   # Convert Double-list to a Single-list\n",
        "# classes_df = pd.DataFrame(taught_list)      # Output it in a dataframe\n",
        "# classes_df\n",
        "\n",
        "\n",
        "\n",
        "\n",
        "# # 2) Second Approach - Find index of Aaron Hood from the API directly, target professor's taught classes (list of dic), then print 2 ways\n",
        "# ## Algorithm to find the index of a particular professor in the API\n",
        "# for i in range(len(api)):\n",
        "#     if api[i]['name'] == 'Aaron Hood':\n",
        "#         #print(True)\n",
        "#         prof_index = i\n",
        "\n",
        "# ## Professor's dictionary\n",
        "# prof= api[prof_index]\n",
        "\n",
        "# ## To target 'taught' classes from 'Aaron Hood'\n",
        "# classes = prof['taught']\n",
        "# print(classes)\n",
        "\n",
        "\n",
        "# ## Print Results:\n",
        "# ### (2.1) PRINT A STRING\n",
        "# ## Algorithm to print taught classes: course_id , semester\n",
        "# for i in range(len(classes)):\n",
        "#     print(f\"Class {i+1}\")\n",
        "#     print(\"Course ID:\"+ \" \" + classes[i]['course_id'])\n",
        "#     print(\"Semester:\" + \" \" + classes[i]['semester'])\n",
        "#     print(\"\\n\")\n",
        "\n",
        "# ### (2.2) PRINT A DATAFRAME\n",
        "# ## Print (course_id, semester) in a DataFrame\n",
        "# df = pd.DataFrame(classes)\n",
        "# df\n",
        "\n",
        "\n",
        "# 2) Third Approach\n",
        "name = 'Aaron Hood'\n",
        "url = professors + '?name=' + name\n",
        "r = requests.get(url).json()\n",
        "# print(json.dumps(r, indent=2))\n",
        "# for x in range(len(r[0]['taught'])):\n",
        "#     print(r[0]['taught'][x])\n",
        "\n",
        "professor_df = pd.DataFrame(r[0])\n",
        "professor_df\n",
        "\n"
      ]
    },
    {
      "cell_type": "markdown",
      "metadata": {
        "id": "gj-B9F05BN7y"
      },
      "source": [
        "[10][10 Points] What are the UMD bus routes?"
      ]
    },
    {
      "cell_type": "code",
      "execution_count": null,
      "metadata": {
        "colab": {
          "base_uri": "https://localhost:8080/",
          "height": 865
        },
        "id": "HYO5oAFahMcQ",
        "outputId": "af97d99e-5787-463d-97ee-4cb54d604a67"
      },
      "outputs": [
        {
          "data": {
            "text/html": [
              "<div>\n",
              "<style scoped>\n",
              "    .dataframe tbody tr th:only-of-type {\n",
              "        vertical-align: middle;\n",
              "    }\n",
              "\n",
              "    .dataframe tbody tr th {\n",
              "        vertical-align: top;\n",
              "    }\n",
              "\n",
              "    .dataframe thead th {\n",
              "        text-align: right;\n",
              "    }\n",
              "</style>\n",
              "<table border=\"1\" class=\"dataframe\">\n",
              "  <thead>\n",
              "    <tr style=\"text-align: right;\">\n",
              "      <th></th>\n",
              "      <th>route_id</th>\n",
              "      <th>title</th>\n",
              "    </tr>\n",
              "  </thead>\n",
              "  <tbody>\n",
              "    <tr>\n",
              "      <th>0</th>\n",
              "      <td>104</td>\n",
              "      <td>104 College Park Metro</td>\n",
              "    </tr>\n",
              "    <tr>\n",
              "      <th>1</th>\n",
              "      <td>105</td>\n",
              "      <td>105 Campus Connector</td>\n",
              "    </tr>\n",
              "    <tr>\n",
              "      <th>2</th>\n",
              "      <td>108</td>\n",
              "      <td>108 Adelphi</td>\n",
              "    </tr>\n",
              "    <tr>\n",
              "      <th>3</th>\n",
              "      <td>109</td>\n",
              "      <td>109 River Road</td>\n",
              "    </tr>\n",
              "    <tr>\n",
              "      <th>4</th>\n",
              "      <td>110</td>\n",
              "      <td>Seven Springs Express</td>\n",
              "    </tr>\n",
              "    <tr>\n",
              "      <th>5</th>\n",
              "      <td>111</td>\n",
              "      <td>111 Silver Spring</td>\n",
              "    </tr>\n",
              "    <tr>\n",
              "      <th>6</th>\n",
              "      <td>113</td>\n",
              "      <td>113 Hyattsville</td>\n",
              "    </tr>\n",
              "    <tr>\n",
              "      <th>7</th>\n",
              "      <td>114</td>\n",
              "      <td>114 University View</td>\n",
              "    </tr>\n",
              "    <tr>\n",
              "      <th>8</th>\n",
              "      <td>115</td>\n",
              "      <td>115 Orange</td>\n",
              "    </tr>\n",
              "    <tr>\n",
              "      <th>9</th>\n",
              "      <td>116</td>\n",
              "      <td>116 Purple</td>\n",
              "    </tr>\n",
              "    <tr>\n",
              "      <th>10</th>\n",
              "      <td>117</td>\n",
              "      <td>117 Blue</td>\n",
              "    </tr>\n",
              "    <tr>\n",
              "      <th>11</th>\n",
              "      <td>118</td>\n",
              "      <td>118 Gold</td>\n",
              "    </tr>\n",
              "    <tr>\n",
              "      <th>12</th>\n",
              "      <td>122</td>\n",
              "      <td>122 Green</td>\n",
              "    </tr>\n",
              "    <tr>\n",
              "      <th>13</th>\n",
              "      <td>123</td>\n",
              "      <td>123 Discovery District</td>\n",
              "    </tr>\n",
              "    <tr>\n",
              "      <th>14</th>\n",
              "      <td>124</td>\n",
              "      <td>Shady Grove</td>\n",
              "    </tr>\n",
              "    <tr>\n",
              "      <th>15</th>\n",
              "      <td>126</td>\n",
              "      <td>126 New Carrolton</td>\n",
              "    </tr>\n",
              "    <tr>\n",
              "      <th>16</th>\n",
              "      <td>127</td>\n",
              "      <td>127 Mazza GrandMarc</td>\n",
              "    </tr>\n",
              "    <tr>\n",
              "      <th>17</th>\n",
              "      <td>128</td>\n",
              "      <td>128 The Enclave</td>\n",
              "    </tr>\n",
              "    <tr>\n",
              "      <th>18</th>\n",
              "      <td>131</td>\n",
              "      <td>131 MGM/Enclave</td>\n",
              "    </tr>\n",
              "    <tr>\n",
              "      <th>19</th>\n",
              "      <td>132</td>\n",
              "      <td>132 The Varsity</td>\n",
              "    </tr>\n",
              "    <tr>\n",
              "      <th>20</th>\n",
              "      <td>133</td>\n",
              "      <td>133 Grocery Shopping Shuttle</td>\n",
              "    </tr>\n",
              "    <tr>\n",
              "      <th>21</th>\n",
              "      <td>140</td>\n",
              "      <td>140 UMB Law</td>\n",
              "    </tr>\n",
              "    <tr>\n",
              "      <th>22</th>\n",
              "      <td>141</td>\n",
              "      <td>141 Gaithersburg Park &amp; Ride</td>\n",
              "    </tr>\n",
              "    <tr>\n",
              "      <th>23</th>\n",
              "      <td>142</td>\n",
              "      <td>142 Columbia Park &amp; Ride</td>\n",
              "    </tr>\n",
              "    <tr>\n",
              "      <th>24</th>\n",
              "      <td>143</td>\n",
              "      <td>143 Greenbelt</td>\n",
              "    </tr>\n",
              "    <tr>\n",
              "      <th>25</th>\n",
              "      <td>bse</td>\n",
              "      <td>Bowie State - Enclave Express</td>\n",
              "    </tr>\n",
              "  </tbody>\n",
              "</table>\n",
              "</div>"
            ],
            "text/plain": [
              "   route_id                          title\n",
              "0       104         104 College Park Metro\n",
              "1       105           105 Campus Connector\n",
              "2       108                    108 Adelphi\n",
              "3       109                 109 River Road\n",
              "4       110          Seven Springs Express\n",
              "5       111              111 Silver Spring\n",
              "6       113                113 Hyattsville\n",
              "7       114            114 University View\n",
              "8       115                     115 Orange\n",
              "9       116                     116 Purple\n",
              "10      117                       117 Blue\n",
              "11      118                       118 Gold\n",
              "12      122                      122 Green\n",
              "13      123         123 Discovery District\n",
              "14      124                    Shady Grove\n",
              "15      126              126 New Carrolton\n",
              "16      127            127 Mazza GrandMarc\n",
              "17      128                128 The Enclave\n",
              "18      131                131 MGM/Enclave\n",
              "19      132                132 The Varsity\n",
              "20      133   133 Grocery Shopping Shuttle\n",
              "21      140                    140 UMB Law\n",
              "22      141   141 Gaithersburg Park & Ride\n",
              "23      142       142 Columbia Park & Ride\n",
              "24      143                  143 Greenbelt\n",
              "25      bse  Bowie State - Enclave Express"
            ]
          },
          "execution_count": 159,
          "metadata": {},
          "output_type": "execute_result"
        }
      ],
      "source": [
        "# STU To Do: Implement your logic \n",
        "\n",
        "professors = 'https://api.umd.io/v1/bus/routes'\n",
        "\n",
        "response = requests.get(professors)     # Get 200 response (Request passed))\n",
        "api = response.json()                   # Convert the data into JSON\n",
        "#print( json.dumps( api, indent=2))      # Print formatted JSON file\n",
        "\n",
        "df_routes = pd.DataFrame(api)\n",
        "df_routes"
      ]
    },
    {
      "cell_type": "markdown",
      "metadata": {
        "id": "rD8IRWG9BdF8"
      },
      "source": [
        "[11][10 Points] Remove any route number (route_id) from each 'title'. The new title should contain \"destinations\" only. See output.  Don't get stuck here for too long; complete remaining activities first"
      ]
    },
    {
      "cell_type": "code",
      "execution_count": null,
      "metadata": {
        "colab": {
          "base_uri": "https://localhost:8080/",
          "height": 865
        },
        "id": "MX3reCtphL-l",
        "outputId": "c4c8f232-72ef-4bb0-e60d-9883492fc9dc"
      },
      "outputs": [
        {
          "data": {
            "text/html": [
              "<div>\n",
              "<style scoped>\n",
              "    .dataframe tbody tr th:only-of-type {\n",
              "        vertical-align: middle;\n",
              "    }\n",
              "\n",
              "    .dataframe tbody tr th {\n",
              "        vertical-align: top;\n",
              "    }\n",
              "\n",
              "    .dataframe thead th {\n",
              "        text-align: right;\n",
              "    }\n",
              "</style>\n",
              "<table border=\"1\" class=\"dataframe\">\n",
              "  <thead>\n",
              "    <tr style=\"text-align: right;\">\n",
              "      <th></th>\n",
              "      <th>route_id</th>\n",
              "      <th>new_title</th>\n",
              "    </tr>\n",
              "  </thead>\n",
              "  <tbody>\n",
              "    <tr>\n",
              "      <th>0</th>\n",
              "      <td>104</td>\n",
              "      <td>College Park Metro</td>\n",
              "    </tr>\n",
              "    <tr>\n",
              "      <th>1</th>\n",
              "      <td>105</td>\n",
              "      <td>Campus Connector</td>\n",
              "    </tr>\n",
              "    <tr>\n",
              "      <th>2</th>\n",
              "      <td>108</td>\n",
              "      <td>Adelphi</td>\n",
              "    </tr>\n",
              "    <tr>\n",
              "      <th>3</th>\n",
              "      <td>109</td>\n",
              "      <td>River Road</td>\n",
              "    </tr>\n",
              "    <tr>\n",
              "      <th>4</th>\n",
              "      <td>110</td>\n",
              "      <td>Seven Springs Express</td>\n",
              "    </tr>\n",
              "    <tr>\n",
              "      <th>5</th>\n",
              "      <td>111</td>\n",
              "      <td>Silver Spring</td>\n",
              "    </tr>\n",
              "    <tr>\n",
              "      <th>6</th>\n",
              "      <td>113</td>\n",
              "      <td>Hyattsville</td>\n",
              "    </tr>\n",
              "    <tr>\n",
              "      <th>7</th>\n",
              "      <td>114</td>\n",
              "      <td>University View</td>\n",
              "    </tr>\n",
              "    <tr>\n",
              "      <th>8</th>\n",
              "      <td>115</td>\n",
              "      <td>Orange</td>\n",
              "    </tr>\n",
              "    <tr>\n",
              "      <th>9</th>\n",
              "      <td>116</td>\n",
              "      <td>Purple</td>\n",
              "    </tr>\n",
              "    <tr>\n",
              "      <th>10</th>\n",
              "      <td>117</td>\n",
              "      <td>Blue</td>\n",
              "    </tr>\n",
              "    <tr>\n",
              "      <th>11</th>\n",
              "      <td>118</td>\n",
              "      <td>Gold</td>\n",
              "    </tr>\n",
              "    <tr>\n",
              "      <th>12</th>\n",
              "      <td>122</td>\n",
              "      <td>Green</td>\n",
              "    </tr>\n",
              "    <tr>\n",
              "      <th>13</th>\n",
              "      <td>123</td>\n",
              "      <td>Discovery District</td>\n",
              "    </tr>\n",
              "    <tr>\n",
              "      <th>14</th>\n",
              "      <td>124</td>\n",
              "      <td>Shady Grove</td>\n",
              "    </tr>\n",
              "    <tr>\n",
              "      <th>15</th>\n",
              "      <td>126</td>\n",
              "      <td>New Carrolton</td>\n",
              "    </tr>\n",
              "    <tr>\n",
              "      <th>16</th>\n",
              "      <td>127</td>\n",
              "      <td>Mazza GrandMarc</td>\n",
              "    </tr>\n",
              "    <tr>\n",
              "      <th>17</th>\n",
              "      <td>128</td>\n",
              "      <td>The Enclave</td>\n",
              "    </tr>\n",
              "    <tr>\n",
              "      <th>18</th>\n",
              "      <td>131</td>\n",
              "      <td>MGM/Enclave</td>\n",
              "    </tr>\n",
              "    <tr>\n",
              "      <th>19</th>\n",
              "      <td>132</td>\n",
              "      <td>The Varsity</td>\n",
              "    </tr>\n",
              "    <tr>\n",
              "      <th>20</th>\n",
              "      <td>133</td>\n",
              "      <td>Grocery Shopping Shuttle</td>\n",
              "    </tr>\n",
              "    <tr>\n",
              "      <th>21</th>\n",
              "      <td>140</td>\n",
              "      <td>UMB Law</td>\n",
              "    </tr>\n",
              "    <tr>\n",
              "      <th>22</th>\n",
              "      <td>141</td>\n",
              "      <td>Gaithersburg Park &amp; Ride</td>\n",
              "    </tr>\n",
              "    <tr>\n",
              "      <th>23</th>\n",
              "      <td>142</td>\n",
              "      <td>Columbia Park &amp; Ride</td>\n",
              "    </tr>\n",
              "    <tr>\n",
              "      <th>24</th>\n",
              "      <td>143</td>\n",
              "      <td>Greenbelt</td>\n",
              "    </tr>\n",
              "    <tr>\n",
              "      <th>25</th>\n",
              "      <td>bse</td>\n",
              "      <td>Bowie State - Enclave Express</td>\n",
              "    </tr>\n",
              "  </tbody>\n",
              "</table>\n",
              "</div>"
            ],
            "text/plain": [
              "   route_id                      new_title\n",
              "0       104             College Park Metro\n",
              "1       105               Campus Connector\n",
              "2       108                        Adelphi\n",
              "3       109                     River Road\n",
              "4       110          Seven Springs Express\n",
              "5       111                  Silver Spring\n",
              "6       113                    Hyattsville\n",
              "7       114                University View\n",
              "8       115                         Orange\n",
              "9       116                         Purple\n",
              "10      117                           Blue\n",
              "11      118                           Gold\n",
              "12      122                          Green\n",
              "13      123             Discovery District\n",
              "14      124                    Shady Grove\n",
              "15      126                  New Carrolton\n",
              "16      127                Mazza GrandMarc\n",
              "17      128                    The Enclave\n",
              "18      131                    MGM/Enclave\n",
              "19      132                    The Varsity\n",
              "20      133       Grocery Shopping Shuttle\n",
              "21      140                        UMB Law\n",
              "22      141       Gaithersburg Park & Ride\n",
              "23      142           Columbia Park & Ride\n",
              "24      143                      Greenbelt\n",
              "25      bse  Bowie State - Enclave Express"
            ]
          },
          "execution_count": 160,
          "metadata": {},
          "output_type": "execute_result"
        }
      ],
      "source": [
        "# STU To Do: Implement your logic \n",
        "new_route = list()\n",
        "for each in df_routes['title']:\n",
        "    result = ''.join([i for i in each if not i.isdigit()])\n",
        "    try:\n",
        "        new_route.append(str(result).strip())\n",
        "    except:\n",
        "        pass\n",
        "    \n",
        "df_routes.drop('title', axis=1, inplace=True)\n",
        "df_routes['new_title'] = new_route\n",
        "df_routes\n",
        "\n",
        "\n",
        "# Second Apporach\n",
        "# df_routes['title'] = df_routes['title'].str.replace('\\d+', '')\n",
        "# df_routes.rename(columns = {'title': 'destinations'}, inplace = True)\n",
        "# print(df_routes)"
      ]
    },
    {
      "cell_type": "markdown",
      "metadata": {
        "id": "l3S992jZCJ5J"
      },
      "source": [
        "[12][10 Points] Implement a function that will display all of the available routes for a specified destination"
      ]
    },
    {
      "cell_type": "code",
      "execution_count": null,
      "metadata": {
        "colab": {
          "base_uri": "https://localhost:8080/"
        },
        "id": "sUPqE00ZjAf9",
        "outputId": "8636d35d-acb5-4a0b-fc83-9c1cae5b7ad2"
      },
      "outputs": [
        {
          "name": "stdout",
          "output_type": "stream",
          "text": [
            "Here are the route(s) for Park\n",
            "The route for College Park Metro is 104\n",
            "The route for Gaithersburg Park & Ride is 141\n",
            "The route for Columbia Park & Ride is 142\n"
          ]
        }
      ],
      "source": [
        "\n",
        "def show_routes_by_destination(df) :\n",
        "    # STU To Do: Implement your logic \n",
        "    user = input(\"Enter Destination: \").title()\n",
        "    \n",
        "    print(f\"Here are the route(s) for {user}\")\n",
        "    for route_id, route in df.itertuples(index=False):\n",
        "        if route.find(user) >= 0:\n",
        "            print(f\"The route for {route} is {route_id}\")  \n",
        "\n",
        "    \n",
        "show_routes_by_destination(df_routes)"
      ]
    }
  ],
  "metadata": {
    "colab": {
      "collapsed_sections": [],
      "name": "STU-Exam_2G.ipynb",
      "provenance": []
    },
    "interpreter": {
      "hash": "26de051ba29f2982a8de78e945f0abaf191376122a1563185a90213a26c5da77"
    },
    "kernelspec": {
      "display_name": "Python 3.10.4 64-bit",
      "language": "python",
      "name": "python3"
    },
    "language_info": {
      "codemirror_mode": {
        "name": "ipython",
        "version": 3
      },
      "file_extension": ".py",
      "mimetype": "text/x-python",
      "name": "python",
      "nbconvert_exporter": "python",
      "pygments_lexer": "ipython3",
      "version": "3.10.4"
    }
  },
  "nbformat": 4,
  "nbformat_minor": 0
}
