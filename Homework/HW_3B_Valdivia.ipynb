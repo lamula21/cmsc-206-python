{
 "cells": [
  {
   "cell_type": "code",
   "execution_count": 20,
   "metadata": {},
   "outputs": [
    {
     "name": "stdout",
     "output_type": "stream",
     "text": [
      "It's an invalid input. Please enter a number next time or type 'done' to exit the program\n",
      "\n",
      "Your values are:  [1, 2, 3, 4]\n",
      "The sum of the numbers is:  10\n",
      "The average of the numbers is:  2.5\n",
      "The maximum numbers is:  4\n",
      "The minium numbers is:  1\n"
     ]
    }
   ],
   "source": [
    "# Author: Jose Valdivia Rojas\n",
    "# Course: CMSC 206\n",
    "# Assignment 3D\n",
    "# Part 1 :\n",
    "# \t1.\tWrite a function which will repeatedly accept input numbers until a user enters the word “done”\n",
    "#       Return the sum, average, maximum, and minimum of the values entered once “done” is entered (you need to return all of the values, not just one of them)\n",
    "#       If the user enters anything other than a number, such as “hi”, warn user that it’s invalid input and ask to try again\n",
    "\n",
    "def input_function():\n",
    "    user_input = 1\n",
    "    user_list = list()\n",
    "    sum = 0\n",
    "\n",
    "    while True:\n",
    "\n",
    "        try:\n",
    "            user_input = input(\"Enter a number:\").lower()   # Convert any input to lower case\n",
    "            if user_input == \"done\":\n",
    "\n",
    "                return user_list, sum, sum/len(user_list), max(user_list), min(user_list)\n",
    "\n",
    "            sum += int(user_input)\n",
    "            user_list.append(int(user_input))\n",
    "        except ValueError:\n",
    "            print(\"It's an invalid input. Please enter a number next time or type 'done' to exit the program\\n\")\n",
    "    \n",
    "user_list, sum, average, maximum, minimum = input_function()\n",
    "\n",
    "print(\"Your values are: \", user_list)\n",
    "print(\"The sum of the numbers is: \", sum )\n",
    "print(\"The average of the numbers is: \", average)\n",
    "print(\"The maximum numbers is: \", maximum )\n",
    "print(\"The minium numbers is: \", minimum )\n",
    "\n",
    "\n",
    "\n",
    "\n"
   ]
  },
  {
   "cell_type": "code",
   "execution_count": 81,
   "metadata": {},
   "outputs": [
    {
     "name": "stdout",
     "output_type": "stream",
     "text": [
      "** \n",
      "**** \n",
      "****** \n",
      "******** \n",
      "********** \n",
      "******** \n",
      "****** \n",
      "**** \n",
      "** \n",
      " \n"
     ]
    }
   ],
   "source": [
    "# Author: Jose Valdivia Rojas\n",
    "# Course: CMSC 206\n",
    "# Assignment 3D \n",
    "# Part 2 :\n",
    "# \t2.\tWrite a function that will draw a sideways tree pointing right similar to the following:\n",
    "#           Allow user to decide the max number of *’s for the “center” row (12, for this example)\n",
    "#           This is just for practice, so you can alter the requirements as you see fit\n",
    "\n",
    "def estrellas_print():\n",
    "\n",
    "    user_number = int(input(\"Enter the maximum number of *s for the center\"))       # Take the number of *s for the center\n",
    "    user_number = user_number//2        # Divide by integer 2 so the pyramid will be printed in 2 by 2\n",
    "\n",
    "    for i in range(0, user_number):         # Print pyramid with **s\n",
    "\n",
    "        for j in range(0, i+1):  \n",
    "            print(\"**\", end='')   \n",
    "        print(\" \")  \n",
    "\n",
    "    for i in range(user_number, 0, -1):     # Reverse print pyramid from max user number of **s to 0\n",
    "\n",
    "        for j in range(0, i - 1):  \n",
    "            print(\"**\", end='')  \n",
    "            \n",
    "        print(\" \")  \n",
    "            \n",
    "estrellas_print()\n",
    "\n",
    "\n"
   ]
  }
 ],
 "metadata": {
  "interpreter": {
   "hash": "0a477e406acbd2e5d181cdd122dfb51ff73acdf0b608e3a81bbfb62ac2a7a365"
  },
  "kernelspec": {
   "display_name": "Python 3.10.2 64-bit",
   "language": "python",
   "name": "python3"
  },
  "language_info": {
   "codemirror_mode": {
    "name": "ipython",
    "version": 3
   },
   "file_extension": ".py",
   "mimetype": "text/x-python",
   "name": "python",
   "nbconvert_exporter": "python",
   "pygments_lexer": "ipython3",
   "version": "3.10.2"
  },
  "orig_nbformat": 4
 },
 "nbformat": 4,
 "nbformat_minor": 2
}
