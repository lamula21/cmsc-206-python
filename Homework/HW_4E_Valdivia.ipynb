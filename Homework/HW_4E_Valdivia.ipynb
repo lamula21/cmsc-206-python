{
 "cells": [
  {
   "cell_type": "code",
   "execution_count": 43,
   "metadata": {},
   "outputs": [
    {
     "name": "stdout",
     "output_type": "stream",
     "text": [
      "['above', 'absolutely', 'advantage', 'again', 'against', 'ago', 'air', 'airy', 'akin', 'alas', 'alberto', 'all', 'alone', 'already', 'also', 'and', 'another', 'answered', 'ants', 'anxious', 'aprons', 'are', 'as', 'asked', 'assured', 'attempt', 'away', 'began', 'black', 'blind', 'blue', 'bought', 'building', 'buildings', 'burning', 'bursts', 'businesses', 'bustle', 'busy', 'butterfly', 'by', 'bye', 'calling', 'came', 'cars', 'cheerfully', 'city', 'clothing', 'cold', 'comet', 'constituted', 'contest', 'conversation', 'could', 'craftily', 'dark', 'darkened', 'dawn', 'decidedly', 'decrepit', 'defended', 'desires', 'desks', 'details', 'dining', 'disappear', 'disappeared', 'distance', 'distinguish', 'diversion', 'divine', 'don', 'doubt', 'down', 'downward', 'drawing', 'dressed', 'drink', 'dusk', 'duties', 'east', 'echoes', 'elegant', 'empty', 'ended', 'entrance', 'even', 'ever', 'every', 'exactly', 'excitement', 'extended', 'extending', 'extraordinary', 'faces', 'falling', 'fascinating', 'fashion', 'fast', 'faster', 'fate', 'fear', 'felt', 'few', 'fiftieth', 'filaments', 'filled', 'first', 'flags', 'floor', 'flower', 'flowers', 'force', 'fortunate', 'forty', 'found', 'fountains', 'friendly', 'furs', 'gardens', 'get', 'girl', 'girls', 'give', 'glancing', 'gown', 'gradually', 'great', 'greatness', 'groups', 'grown', 'had', 'hands', 'having', 'headlong', 'hear', 'heart', 'heaven', 'her', 'herself', 'high', 'him', 'hopelessly', 'hour', 'however', 'i', 'illuminate', 'illuminated', 'immense', 'inauguration', 'inside', 'interested', 'into', 'is', 'it', 'its', 'i’m', 'jewels', 'just', 'kind', 'knows', 'large', 'late', 'laughed', 'laughter', 'life', 'light', 'lights', 'long', 'longer', 'main', 'making', 'man', 'may', 'me', 'meanwhile', 'millionaires’', 'mink', 'minute', 'missed', 'modest', 'morning', 'most', 'muffled', 'mushroom', 'muttered', 'night', 'nose', 'nothing', 'obviously', 'of', 'old', 'older', 'onyx', 'other', 'out', 'party', 'pass', 'passed', 'perhaps', 'pinnacle', 'point', 'power', 'powerful', 'pretty', 'provokes', 'pure', 'rack', 'railing', 'raised', 'ran', 'rather', 'reach', 'reading', 'realized', 'really', 'reflections', 'remedy', 'room', 'rush', 'said', 'scattered', 'seemed', 'set', 'shaking', 'she', 'shimmering', 'shining', 'shoulders', 'sideboard', 'sides', 'signs', 'silver', 'since', 'sip', 'sir', 'snatch', 'so', 'some', 'somewhat', 'songs', 'sorcery', 'spitefully', 'spring', 'started', 'stirred', 'stood', 'street', 'streets', 'such', 'suddenly', 'sunset', 'sweet', 'tap', 'tenants', 'terraces', 'thanks', 'the', 'their', 'them', 'there', 'these', 'thirty', 'those', 'three', 'tightly', 'top', 'touch', 'toward', 'tremor', 'twenty', 'up', 'vertical', 'very', 'vivifying', 'waiting', 'was', 'wasn', 'watch', 'way', 'we', 'weary', 'were', 'while', 'white', 'whoever', 'why', 'wife', 'windows', 'with', 'woman', 'women', 'words', 'worked', 'world', 'would', 'wrapped', 'you', 'your']\n",
      "----------------------------------------------------\n",
      "The list 3x3 is:  [['above', 'illuminate', 'fortunate'], ['modest', 'onyx', 'knows'], ['hopelessly', 'duties', 'flower']]\n",
      "\n",
      "The word at row1 and column1 is:  above\n"
     ]
    }
   ],
   "source": [
    "# Author: Jose Valdivia Rojas\n",
    "# Course: CMSC 206\n",
    "# Assignment 4E\n",
    "\n",
    "# Part 1 : Process the provided text file, english.txt, and create a list of unique words for it\n",
    "\n",
    "import re   #  Import re to split string with multiple delimiters\n",
    "\n",
    "# Another way to open and read a file -->   f = open('english.txt', 'r')   \n",
    "with open('english.txt') as f:      # Open the file\n",
    "    text = f.read()                # Read the file\n",
    "    text = text.lower()           # Convert the whole text to lower case\n",
    "    list_words = re.split('[-\\s—]', text)  # Split string with multiple delimiters: - , \\s, — \n",
    "\n",
    "list_words = [ (eachWord.strip('.,“”!;()[]?,):\\n\"')) for eachWord in list_words]     # Cleaning the words from . , ! ; () [] “ ” ? ' \n",
    "list_words = [ (eachWord.replace(\"’s\" , '')) for eachWord in list_words]    # Replace 's from words with ''\n",
    "list_words = [ (eachWord.replace(\"’ll\" , '')) for eachWord in list_words]    # Replace 'll from words ''\n",
    "list_words = [ (eachWord.replace(\"’t\" , '')) for eachWord in list_words]    # Replace 't from words ''\n",
    "\n",
    "\n",
    "\n",
    "# No duplicate words\n",
    "# Another way could've been using sets \n",
    "unique_list = []\n",
    "for eachWord in list_words:\n",
    "    if eachWord not in unique_list:         # in – membership operator to check if the word is present in unique_list\n",
    "        unique_list.append(eachWord)\n",
    "\n",
    "\n",
    "\n",
    "# Don’t include these words: the, a, an\n",
    "for eachWord in unique_list:\n",
    "    if eachWord == 'the' or 'a' or 'an':\n",
    "        unique_list.remove(eachWord)\n",
    "unique_list.remove('8:45')  # Remove because this is not a word\n",
    "\n",
    "\n",
    "# Sort your list in ascending order\n",
    "unique_list.sort()\n",
    "print(unique_list)\n",
    "\n",
    "\n",
    "\n",
    "#  Part 2:\tCreate (randomly fill) a list of 3 x 3 (rows & columns) of information of your choice  \n",
    "list_of_list = [ ['above', 'illuminate', 'fortunate' ], ['modest', 'onyx', 'knows'], ['hopelessly','duties','flower'] ]\n",
    "\n",
    "# Allow user to obtain information from the list by specifying a set of row and column numbers\n",
    "row_user = int(input(\"Choose a row number from 1 to 3\"))\n",
    "column_user = int(input(\"Choose a column number from 1 to 3\"))\n",
    "\n",
    "print(\"----------------------------------------------------\")\n",
    "print(\"The list 3x3 is: \", list_of_list)\n",
    "print(\"\")\n",
    "print( f\"The word at row {row_user} and column {column_user} is:\", list_of_list[row_user-1][column_user-1])\n"
   ]
  }
 ],
 "metadata": {
  "interpreter": {
   "hash": "0a477e406acbd2e5d181cdd122dfb51ff73acdf0b608e3a81bbfb62ac2a7a365"
  },
  "kernelspec": {
   "display_name": "Python 3.10.2 64-bit",
   "language": "python",
   "name": "python3"
  },
  "language_info": {
   "codemirror_mode": {
    "name": "ipython",
    "version": 3
   },
   "file_extension": ".py",
   "mimetype": "text/x-python",
   "name": "python",
   "nbconvert_exporter": "python",
   "pygments_lexer": "ipython3",
   "version": "3.10.2"
  },
  "orig_nbformat": 4
 },
 "nbformat": 4,
 "nbformat_minor": 2
}
