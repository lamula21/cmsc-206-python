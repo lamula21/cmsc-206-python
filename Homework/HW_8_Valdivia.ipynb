{
 "cells": [
  {
   "cell_type": "code",
   "execution_count": 2,
   "metadata": {},
   "outputs": [
    {
     "name": "stdout",
     "output_type": "stream",
     "text": [
      "Input: My name is Jose Valdivia - My MC# 1234055\n",
      "No. of uppercase characters = 6\n",
      "No. of lowercase characters = 18\n",
      "No. of numerical characters = 7\n",
      "No. of special characters =  2\n"
     ]
    }
   ],
   "source": [
    "# Author: Jose Valdivia Rojas\n",
    "# Course: CMSC 206\n",
    "# Assignment 8\n",
    "\n",
    "# Regular Expression\n",
    "\n",
    "'''\n",
    "1.\tImplement a function to:\n",
    "o\tAccept an input string\n",
    "o\tUsing regular expressions(s), count the number of Uppercase, Lowercase, special character and numeric values present in the string\n",
    "'''\n",
    "\n",
    "def regex( input : str):\n",
    "    import re\n",
    "    upper = re.findall( '[A-Z]', input) \n",
    "    lower = re.findall( '[a-z]', input)\n",
    "    numerical_ch = re.findall( r\"\\d\", input)    # Matches to any digit. Short for character classes '[0-9]'\n",
    "    special_ch = re.findall( r'[@_\\-\\'!#$%^&*()<>?/}\"{`~:,.;]', input)     # Matches special characters\n",
    "    special_ch = re.findall( r'[^a-zA-Z_0-9 | ^\\t\\n\\x0b\\r\\f ]', input)     # Another way, Matches any non-alphanumeric character AND non-whitespace characters    \n",
    "\n",
    "    print(\"Input:\", input)\n",
    "    print(\"No. of uppercase characters =\", len(upper) )\n",
    "    print(\"No. of lowercase characters =\", len(lower) )\n",
    "    print(\"No. of numerical characters =\", len(numerical_ch) )\n",
    "    print(\"No. of special characters = \", len(special_ch) )\n",
    "\n",
    "# Main\n",
    "user_input = input(\"Enter a string containing numerical , special, upper, lower characters\")\n",
    "regex(user_input)\n"
   ]
  }
 ],
 "metadata": {
  "interpreter": {
   "hash": "0a477e406acbd2e5d181cdd122dfb51ff73acdf0b608e3a81bbfb62ac2a7a365"
  },
  "kernelspec": {
   "display_name": "Python 3.10.2 64-bit",
   "language": "python",
   "name": "python3"
  },
  "language_info": {
   "codemirror_mode": {
    "name": "ipython",
    "version": 3
   },
   "file_extension": ".py",
   "mimetype": "text/x-python",
   "name": "python",
   "nbconvert_exporter": "python",
   "pygments_lexer": "ipython3",
   "version": "3.10.2"
  },
  "orig_nbformat": 4
 },
 "nbformat": 4,
 "nbformat_minor": 2
}
