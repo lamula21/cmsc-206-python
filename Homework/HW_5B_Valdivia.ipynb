{
 "cells": [
  {
   "cell_type": "code",
   "execution_count": 18,
   "metadata": {},
   "outputs": [
    {
     "name": "stdout",
     "output_type": "stream",
     "text": [
      "------------------------------ Output ------------------------------\n",
      "The total number of sentences in the text is 250\n",
      "The total number of words in the text is 1110\n",
      "The total number of characters in the text is 22592\n"
     ]
    }
   ],
   "source": [
    "# Author: Jose Valdivia Rojas\n",
    "# Course: CMSC 206\n",
    "# Assignment 5B\n",
    "\n",
    "# Part 1 : 1.\tWrite a program to – \n",
    "# o\tprompt user for a filename (e.g., intro.txt), \n",
    "# o process the file and determine –\n",
    "# o\ttotal number of sentences\n",
    "# o\ttotal number of words (from the sentences); clean up punctuation marks\n",
    "# o\ttotal number of characters (punctuation marks are charaters)\n",
    "# o\tskip any blank lines and spaces\n",
    "# o\tdouble check your output – game, Game, gAme vs game. (at the end of a sentence with the period – all of them are the same word)\n",
    "\n",
    "import re   #  Import re to split string with multiple delimiters\n",
    "# Prompt user to enter a filename\n",
    "user_file = input(\"What is the file Path that you want to open: \")\n",
    "while True:\n",
    "    try:\n",
    "        with open(user_file) as f:\n",
    "            text = f.read()\n",
    "            list_sentences = re.split('[?.:]', text)\n",
    "            list_words = re.split('[-\\s—]', text)\n",
    "            break\n",
    "    except:\n",
    "        print()\n",
    "        user_file = input(\"Please choose a valid file.\\nTip: Try placing the file in the same directory as the program.\\nWhat is the file name you want to open: \")\n",
    "\n",
    "\n",
    "# Format the text in sentences\n",
    "list_sentences = [ (eachSentence.replace(\"\\n\" , '')) for eachSentence in list_sentences]    # Replace \\n from sentence with '' to clean up\n",
    "list_sentences = [ (eachSentence.strip()) for eachSentence in list_sentences]               # Remove leading and trailing spaces\n",
    "list_sentences = [ (None if len(eachSentence) < 3 else eachSentence) for eachSentence in list_sentences ]   # If a sentence has less than 3 words so its not a sentence (Null)\n",
    "list_sentences = list(filter(None, list_sentences))         # Filter Null values from the List             \n",
    "number_of_sentences = len(list_sentences)\n",
    "\n",
    "\n",
    "# Format the text in words with all characters\n",
    "number_of_characters = 0\n",
    "list_words_with_all_characters = list(list_words)\n",
    "for eachWord in list_words_with_all_characters:\n",
    "    number_of_characters += len(eachWord)\n",
    "\n",
    "\n",
    "\n",
    "# Format the text in words\n",
    "list_words = [ (eachWord.strip('.,“”!;()[]?,):\\n\"')) for eachWord in list_words]     # Cleaning the words from . , ! ; () [] “ ” ? ' \n",
    "list_words = [ (eachWord.replace(\"’s\" , '')) for eachWord in list_words]    # Replace 's from words with ''\n",
    "list_words = [ (eachWord.replace(\"’ll\" , '')) for eachWord in list_words]    # Replace 'll from words ''\n",
    "list_words = [ (eachWord.replace(\"’t\" , '')) for eachWord in list_words]    # Replace 't from words ''\n",
    "\n",
    "# No duplicate words\n",
    "unique_list = []\n",
    "for eachWord in list_words:\n",
    "    if eachWord not in unique_list and eachWord != '':         # in – membership operator to check if the word is present in unique_list , eachWord != '' to skip blank lines\n",
    "        unique_list.append(eachWord)\n",
    "number_of_words = len(unique_list)\n",
    "\n",
    "\n",
    "\n",
    "# Print output\n",
    "print(\"------------------------------ Output ------------------------------\")\n",
    "print(\"The total number of sentences in the text is\", number_of_sentences )\n",
    "print(\"The total number of words in the text is\", number_of_words )\n",
    "print(\"The total number of characters in the text is\", number_of_characters )\n"
   ]
  },
  {
   "cell_type": "code",
   "execution_count": 38,
   "metadata": {},
   "outputs": [
    {
     "name": "stdout",
     "output_type": "stream",
     "text": [
      "Your total purchase price of this portfolio: 510.28\n",
      "Your total profit margin of this portfolio: 93.46\n"
     ]
    }
   ],
   "source": [
    "# 2.\tWrite another program to – \n",
    "# o\tProcess the stocks.xlsx file (provided)\n",
    "# o\tYou can export it as a txt file first\n",
    "# o\tImplement a function to determine the total purchase price (of the portfolio)\n",
    "# o\tImplement another function to determine the profit margin of the portfolio (current price minus purchase price of all stocks) \n",
    "\n",
    "\n",
    "# Implement a function to determine the total purchase price (of the portfolio)\n",
    "def total_purchase_price_portfolio(data_list):\n",
    "    purchase_price = 0.0\n",
    "    for eachRow in data_list[1:]:       # [1:] Loop starts from the 2nd row\n",
    "        purchase_price += float(  eachRow[1].strip().lstrip('$')  )\n",
    "        # purchase_price = int(eachRow[1].replace('$','')) # Another way to get rid of the symbol '$'\n",
    "\n",
    "    return purchase_price\n",
    "\n",
    "\n",
    "# Implement another function to determine the profit margin of the portfolio (current price minus purchase price of all stocks) \n",
    "def total_profit_portfolio(data_list):  \n",
    "    profit_margin = 0.0\n",
    "    for eachRow in data_list[1:]:       # [1:] Loop starts from the 2nd row of the table\n",
    "        # profit_margin += float(eachRow[4].strip().lstrip('$')) - float(eachRow[1].strip().lstrip('$'))     # Another way to get rid of the symbol '$'\n",
    "        profit_margin += float( eachRow[4].strip().replace('$','') ) - float( eachRow[1].strip().replace('$','') )    \n",
    "\n",
    "    return profit_margin\n",
    "\n",
    "\n",
    "# Process the stocks.xlsx file (provided)\n",
    "import csv\n",
    "\n",
    "while True:\n",
    "    try:\n",
    "        file_name = input(\"Input the csv file name\")\n",
    "        csv_object = open(file_name, 'r')\n",
    "        csv_reader_object = csv.reader(csv_object)\n",
    "        break\n",
    "    except:\n",
    "        input(\"Please enter a valid csv file name\")\n",
    "\n",
    "# Read the data from csv file and store into a new a list of lists\n",
    "data_list = [ lines for lines in csv_reader_object]  \n",
    "\n",
    "# Store total price and total profit\n",
    "total_price = total_purchase_price_portfolio(data_list)\n",
    "total_profit_margin = total_profit_portfolio(data_list)\n",
    "\n",
    "\n",
    "# Output total price and total profit\n",
    "print(\"Your total purchase price of this portfolio:\", total_price)\n",
    "print(\"Your total profit margin of this portfolio:\", \"{:.2f}\".format(total_profit_margin))\n"
   ]
  }
 ],
 "metadata": {
  "interpreter": {
   "hash": "0a477e406acbd2e5d181cdd122dfb51ff73acdf0b608e3a81bbfb62ac2a7a365"
  },
  "kernelspec": {
   "display_name": "Python 3.10.2 64-bit",
   "language": "python",
   "name": "python3"
  },
  "language_info": {
   "codemirror_mode": {
    "name": "ipython",
    "version": 3
   },
   "file_extension": ".py",
   "mimetype": "text/x-python",
   "name": "python",
   "nbconvert_exporter": "python",
   "pygments_lexer": "ipython3",
   "version": "3.10.2"
  },
  "orig_nbformat": 4
 },
 "nbformat": 4,
 "nbformat_minor": 2
}
