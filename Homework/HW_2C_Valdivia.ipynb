{
 "cells": [
  {
   "cell_type": "code",
   "execution_count": 33,
   "metadata": {},
   "outputs": [
    {
     "name": "stdout",
     "output_type": "stream",
     "text": [
      "Choose 4 integer values:\n",
      "Your values are: [1234523, 1952357, -1523421, -1523523]\n",
      "Your maximum number is 1952357 \n",
      "Your minimum number is -1523523\n"
     ]
    }
   ],
   "source": [
    "# Author: Jose Valdivia Rojas\n",
    "# Course: CMSC 206\n",
    "# Assignment 2C \n",
    "# Part 1 :\n",
    "# \tWrite a program to –\n",
    "#   Prompt user for four integer values\n",
    "#   Display the maximum and minimum of the (four) values\n",
    "\n",
    "data = [0, 0, 0, 0]    # Initialize and stores 4 ints in the list\n",
    "print(\"Choose 4 integer values:\")\n",
    "data = [ int(input(\"Pick a random number\")) for n in data ] # For each element in data, prompt the user an integer and replace with the default value \"0\" in data \n",
    "print(\"Your values are:\", data)\n",
    "maximum = max(data)\n",
    "minimum = min(data)\n",
    "print(\"Your maximum number is\",maximum , \"\\nYour minimum number is\" ,minimum)\n",
    "\n"
   ]
  },
  {
   "cell_type": "code",
   "execution_count": 39,
   "metadata": {},
   "outputs": [
    {
     "ename": "Exception",
     "evalue": "Sorry, value out of range",
     "output_type": "error",
     "traceback": [
      "\u001b[1;31m---------------------------------------------------------------------------\u001b[0m",
      "\u001b[1;31mException\u001b[0m                                 Traceback (most recent call last)",
      "Input \u001b[1;32mIn [39]\u001b[0m, in \u001b[0;36m<module>\u001b[1;34m\u001b[0m\n\u001b[0;32m      8\u001b[0m input_user \u001b[38;5;241m=\u001b[39m \u001b[38;5;28mfloat\u001b[39m(\u001b[38;5;28minput\u001b[39m(\u001b[38;5;124m\"\u001b[39m\u001b[38;5;124mChoose a value between 0.0 and 1.0\u001b[39m\u001b[38;5;124m\"\u001b[39m))\n\u001b[0;32m     10\u001b[0m \u001b[38;5;28;01mif\u001b[39;00m input_user \u001b[38;5;241m<\u001b[39m \u001b[38;5;241m0.0\u001b[39m \u001b[38;5;129;01mor\u001b[39;00m input_user \u001b[38;5;241m>\u001b[39m \u001b[38;5;241m1.0\u001b[39m:\n\u001b[1;32m---> 11\u001b[0m     \u001b[38;5;28;01mraise\u001b[39;00m \u001b[38;5;167;01mException\u001b[39;00m(\u001b[38;5;124m\"\u001b[39m\u001b[38;5;124mSorry, value out of range\u001b[39m\u001b[38;5;124m\"\u001b[39m)\n\u001b[0;32m     12\u001b[0m \u001b[38;5;28;01melse\u001b[39;00m:\n\u001b[0;32m     13\u001b[0m     \u001b[38;5;28;01mif\u001b[39;00m input_user \u001b[38;5;241m>\u001b[39m\u001b[38;5;241m=\u001b[39m \u001b[38;5;241m0.9\u001b[39m:\n",
      "\u001b[1;31mException\u001b[0m: Sorry, value out of range"
     ]
    }
   ],
   "source": [
    "# Part 2:\n",
    "#\tWrite a program to –\n",
    "#\tprompt user for a value between 0.0 and 1.0 inclusively\n",
    "#\tIf the value is out of range, print an error message\n",
    "#\tIf the value is between 0.0 and 1.0, print the corresponding ‘letter grade’ according to the following distributiions:\n",
    "\n",
    "data = list()\n",
    "input_user = float(input(\"Choose a value between 0.0 and 1.0\"))\n",
    "\n",
    "if input_user < 0.0 or input_user > 1.0:\n",
    "    raise Exception(\"Sorry, value out of range\")\n",
    "else:\n",
    "    if input_user >= 0.9:\n",
    "        print(\"Your grade is A. Congrats!\")\n",
    "    elif input_user >= 0.8:\n",
    "        print(\"Your grade is B. Keep it up\")\n",
    "    elif input_user >= 0.7:\n",
    "        print(\"Your grade is C. Almost there\")\n",
    "    elif input_user >= 0.6:\n",
    "        print(\"You grade is D. Go study\")\n",
    "    else:\n",
    "        print(\"Your grade is F. Shame\")\n",
    " \n"
   ]
  }
 ],
 "metadata": {
  "interpreter": {
   "hash": "0a477e406acbd2e5d181cdd122dfb51ff73acdf0b608e3a81bbfb62ac2a7a365"
  },
  "kernelspec": {
   "display_name": "Python 3.10.2 64-bit",
   "language": "python",
   "name": "python3"
  },
  "language_info": {
   "codemirror_mode": {
    "name": "ipython",
    "version": 3
   },
   "file_extension": ".py",
   "mimetype": "text/x-python",
   "name": "python",
   "nbconvert_exporter": "python",
   "pygments_lexer": "ipython3",
   "version": "3.10.2"
  },
  "orig_nbformat": 4
 },
 "nbformat": 4,
 "nbformat_minor": 2
}
