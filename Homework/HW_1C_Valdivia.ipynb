{
  "nbformat": 4,
  "nbformat_minor": 0,
  "metadata": {
    "colab": {
      "name": "Valdivia_1C.ipynb",
      "provenance": [],
      "collapsed_sections": []
    },
    "kernelspec": {
      "name": "python3",
      "display_name": "Python 3"
    },
    "language_info": {
      "name": "python"
    }
  },
  "cells": [
    {
      "cell_type": "code",
      "execution_count": 30,
      "metadata": {
        "colab": {
          "base_uri": "https://localhost:8080/"
        },
        "id": "RkxwyFEzvmX4",
        "outputId": "354ae7ea-fb6f-4ae9-a416-f2b203b30935"
      },
      "outputs": [
        {
          "output_type": "stream",
          "name": "stdout",
          "text": [
            "Hello, World!\n",
            "\n",
            "Jack and Jill went up a hill\n",
            "to fetch a pail of water;\n",
            "Jack fell down, and broke his crown,\n",
            "and Jill came tumbling after.\n",
            "\n",
            "With a great power, comes a great responsability.\n",
            "Without sacrifice, there is no victory.\n",
            "Either you die as a hero, or you live long enough to become a villain.\n"
          ]
        }
      ],
      "source": [
        "# Author: Jose A. Valdivia Rojas\n",
        "# Course: CMSC 206\n",
        "# Homework 1C\n",
        "\n",
        "# Printing\n",
        "print(\"Hello, World!\")\n",
        "print(\"\") # A new line\n",
        "print(\"Jack and Jill went up a hill\")\n",
        "print(\"to fetch a pail of water;\")\n",
        "print(\"Jack fell down, and broke his crown,\")\n",
        "print(\"and Jill came tumbling after.\")\n",
        "print(\"\") # A new line\n",
        "print(\"With a great power,\",\"comes a great responsability.\")\n",
        "print(\"Without sacrifice,\",\"there is no victory.\")\n",
        "print(\"Either you die as a hero,\", \"or you live long enough to become a villain.\")\n",
        "\n",
        "\n"
      ]
    },
    {
      "cell_type": "code",
      "source": [
        "# \\n in Printing\n",
        "print(\"Hello, World!\\nWhat should I do\")\n",
        "print(\"I should finish this homework as fast as I can\\nOtherwise, I won't have time for my other classes' assignments\")"
      ],
      "metadata": {
        "colab": {
          "base_uri": "https://localhost:8080/"
        },
        "id": "T5QiUysVn1JF",
        "outputId": "6f8e2ac0-197a-4588-bca6-18cc30bbbd59"
      },
      "execution_count": 20,
      "outputs": [
        {
          "output_type": "stream",
          "name": "stdout",
          "text": [
            "Hello, World!\n",
            "What should I do\n",
            "I should finish this homework as fast as I can\n",
            "Otherwise, I won't have time for my other classes' assignments\n"
          ]
        }
      ]
    },
    {
      "cell_type": "code",
      "source": [
        "# Expessions\n",
        "print(\"2 + 2 is\", 2 + 2)\n",
        "print(\"3 * 4 is\", 3 * 4)\n",
        "print(\"100 - 1 is\", 100 - 1)\n",
        "print(\"(33 + 2) / 5 + 11.5 is\", (33 + 2) / 5 + 11.5)"
      ],
      "metadata": {
        "colab": {
          "base_uri": "https://localhost:8080/"
        },
        "id": "CZHfE6p0o72R",
        "outputId": "df8a9a24-a96b-4888-9f8d-2e1ae76f5838"
      },
      "execution_count": 5,
      "outputs": [
        {
          "output_type": "stream",
          "name": "stdout",
          "text": [
            "2 + 2 is 4\n",
            "3 * 4 is 12\n",
            "100 - 1 is 99\n",
            "(33 + 2) / 5 + 11.5 is 18.5\n"
          ]
        }
      ]
    },
    {
      "cell_type": "code",
      "source": [
        "# Arithmetic expressions\n",
        "print(\"2 + 2 is\", 2 + 2)"
      ],
      "metadata": {
        "colab": {
          "base_uri": "https://localhost:8080/"
        },
        "id": "XJ2udaljo8Qf",
        "outputId": "68b304b3-9efd-4ea9-a138-35b6474983cc"
      },
      "execution_count": 6,
      "outputs": [
        {
          "output_type": "stream",
          "name": "stdout",
          "text": [
            "2 + 2 is 4\n"
          ]
        }
      ]
    },
    {
      "cell_type": "code",
      "source": [
        "# Commenting in Python\n",
        "# Not quite PI, but a credible simulation\n",
        "print(22 / 7) # Well, just a good approximation"
      ],
      "metadata": {
        "colab": {
          "base_uri": "https://localhost:8080/"
        },
        "id": "HLbg-EVpo8aB",
        "outputId": "5981f4a9-8e71-4abe-8d67-8d41f98d2714"
      },
      "execution_count": 9,
      "outputs": [
        {
          "output_type": "stream",
          "name": "stdout",
          "text": [
            "3.142857142857143\n"
          ]
        }
      ]
    },
    {
      "cell_type": "code",
      "source": [
        "# Examples\n",
        "\n",
        "# Denmark.py\n",
        "print(\"Something's rotten in the state of Denmark.\")\n",
        "print(\"                -- Shakespeare\")"
      ],
      "metadata": {
        "colab": {
          "base_uri": "https://localhost:8080/"
        },
        "id": "nO-cQ9KDo8ht",
        "outputId": "69591f99-fdbc-456e-9091-cc220bf33fe6"
      },
      "execution_count": 10,
      "outputs": [
        {
          "output_type": "stream",
          "name": "stdout",
          "text": [
            "Something's rotten in the state of Denmark.\n",
            "                -- Shakespeare\n"
          ]
        }
      ]
    },
    {
      "cell_type": "code",
      "source": [
        "# School.py\n",
        "# This is not quite true outside of USA\n",
        "# and is based on my dim memories of my younger years\n",
        "print(\"Firstish Grade\")\n",
        "print(\"1 + 1 =\", 1 + 1)\n",
        "print(\"2 + 4 =\", 2 + 4)\n",
        "print(\"5 - 2 =\", 5 - 2)\n",
        "print()\n",
        "print(\"Thirdish Grade\")\n",
        "print(\"243 - 23 =\", 243 - 23)\n",
        "print(\"12 * 4 =\", 12 * 4)\n",
        "print(\"12 / 3 =\", 12 / 3)\n",
        "print(\"13 / 3 =\", 13 // 3, \"R\", 13 % 3)\n",
        "print()\n",
        "print(\"Junior High\")\n",
        "print(\"123.56 - 62.12 =\", 123.56 - 62.12)\n",
        "print(\"(4 + 3) * 2 =\", (4 + 3) * 2)\n",
        "print(\"4 + 3 * 2 =\", 4 + 3 * 2)\n",
        "print(\"3 ** 2 =\", 3 ** 2)"
      ],
      "metadata": {
        "colab": {
          "base_uri": "https://localhost:8080/"
        },
        "id": "Z8HjBcQ2r2q_",
        "outputId": "0a445759-3857-4b05-8196-7c9b515bacbf"
      },
      "execution_count": 14,
      "outputs": [
        {
          "output_type": "stream",
          "name": "stdout",
          "text": [
            "Firstish Grade\n",
            "1 + 1 = 2\n",
            "2 + 4 = 6\n",
            "5 - 2 = 3\n",
            "\n",
            "Thirdish Grade\n",
            "243 - 23 = 220\n",
            "12 * 4 = 48\n",
            "12 / 3 = 4.0\n",
            "13 / 3 = 4 R 1\n",
            "\n",
            "Junior High\n",
            "123.56 - 62.12 = 61.440000000000005\n",
            "(4 + 3) * 2 = 14\n",
            "4 + 3 * 2 = 10\n",
            "3 ** 2 = 9\n"
          ]
        }
      ]
    },
    {
      "cell_type": "code",
      "source": [
        "# Exercises\n",
        " \n",
        "# Write a program that prints your full name and your birthday as separate strings.\n",
        "print(\"Jose Valdivia Rojas\",\"02/10/99\")\n",
        "\n",
        "# Write a program that shows the use of all 7 arithmetic operations.\n",
        "print(\"3**3 = \", 3**3)\n",
        "print(\"5*4 = \", 5*4)\n",
        "print(\"5/4 = \", 5/4)\n",
        "print(\"50.3//6.1 = \", 50.3//6.1)\n",
        "print(\"50%6 = \", 50%6)\n",
        "print(\"2+1 = \", 2+1)\n",
        "print(\"10-11 = \", 10-11)"
      ],
      "metadata": {
        "colab": {
          "base_uri": "https://localhost:8080/"
        },
        "id": "mQee3nxGr29_",
        "outputId": "a57a024c-8307-49ad-83c3-f743025bf73f"
      },
      "execution_count": 29,
      "outputs": [
        {
          "output_type": "stream",
          "name": "stdout",
          "text": [
            "Jose Valdivia Rojas 02/10/99\n",
            "3**3 =  27\n",
            "5*4 =  20\n",
            "5/4 =  1.25\n",
            "50.3//6.1 =  8.0\n",
            "50%6 =  2\n",
            "2+1 =  3\n",
            "10-11 =  -1\n"
          ]
        }
      ]
    }
  ]
}