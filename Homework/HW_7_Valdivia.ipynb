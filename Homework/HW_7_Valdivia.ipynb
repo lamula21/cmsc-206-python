{
 "cells": [
  {
   "cell_type": "code",
   "execution_count": 3,
   "metadata": {},
   "outputs": [
    {
     "name": "stdout",
     "output_type": "stream",
     "text": [
      "(50, 40, 30, 20, 10)\n",
      "\n",
      "\n",
      "The new tuples are:\n",
      "Tuple1: (99, 88, 77)\n",
      "Tuple2: (11, 22, 33)\n",
      "\n",
      "\n",
      "The new sorted tuples are:\n",
      "Tuple1: (77, 88, 99)\n",
      "Tuple2: (33, 22, 11)\n"
     ]
    }
   ],
   "source": [
    "# Author: Jose Valdivia Rojas\n",
    "# Course: CMSC 206\n",
    "# Assignment 7\n",
    "\n",
    "\n",
    "# 1.\tImplement logic to –\n",
    "    # o\tReverse the following tuple from aTuple to the Expected Output\n",
    "    # o\taTuple = (10, 20, 30, 40, 50)\n",
    "    # o\tExpected Output: (50, 40, 30, 20, 10)\n",
    "\n",
    "aTuple = (10 , 20 , 30 , 40 , 50)\n",
    "result = sorted(aTuple, reverse=True)\n",
    "print(tuple(result))\n",
    "\n",
    "# o\tSwap the following two tuples from tuple1 and tuple2 to the Expected Outputs\n",
    "    # \ttuple1 = (11, 22, 33)\n",
    "    # \ttuple2 = (99, 88, 77)\n",
    "    # \tExpected Outputs\n",
    "    # •\ttuple1 = (77, 88, 99)\n",
    "    # •\ttuple2 = (33, 22, 11)\n",
    "tuple1 = (11, 22, 33)\n",
    "tuple2 = (99, 88, 77)\n",
    "\n",
    "# Swapping tuples\n",
    "tuple1_copy = tuple(tuple1)\n",
    "tuple1 = tuple(tuple2)\n",
    "tuple2 = tuple(tuple1_copy)\n",
    "\n",
    "print(f\"\\n\\nThe new tuples are:\\nTuple1: {tuple1}\\nTuple2: {tuple2}\")\n",
    "\n",
    "# Sorting tuples\n",
    "result_tuple1 = sorted(tuple1)\n",
    "result_tuple2 = sorted(tuple2, reverse=True)\n",
    "print(f\"\\n\\nThe new sorted tuples are:\\nTuple1: {tuple(result_tuple1)}\\nTuple2: {tuple(result_tuple2)}\")\n",
    "\n",
    "\n",
    "\n"
   ]
  },
  {
   "cell_type": "code",
   "execution_count": 26,
   "metadata": {},
   "outputs": [
    {
     "name": "stdout",
     "output_type": "stream",
     "text": [
      "foo and bar are NOT Isomorphic\n",
      "abc and bcd are Isomorphic\n",
      "cicle and title are Isomorphic\n"
     ]
    }
   ],
   "source": [
    "# 2.\tWrite a function to determine whether there exists a one-to-one character mapping between two strings\n",
    "    # o\tFor example, given s1 =’abc’ and s2 = ‘bcd’ – return true since we can map a to b, b to c, and c to d\n",
    "    # o\tGiven s1 = ‘foo’ and s2 = ‘bar’ – return false since the o cannot map to two characters\n",
    "\n",
    "s1 = \"foo\"\n",
    "s2 = \"bar\"\n",
    "s3 = \"abc\"\n",
    "s4 = \"bcd\"\n",
    "s5 = \"cicle\"\n",
    "s6 = \"title\"\n",
    "\n",
    "\n",
    "def one_to_one(s1, s2):\n",
    "\n",
    "    s1 = str(s1)\n",
    "    s2 = str(s2)\n",
    "\n",
    "    dictionary = {}\n",
    "\n",
    "    # Check if both strings does not have the same length\n",
    "    if len(s1) != len(s2):\n",
    "        print()\n",
    "        return False\n",
    "\n",
    "    # Loop through each character of the string 1\n",
    "    for i in range(len(s1)):\n",
    "        ch1 , ch2 = s1[i] , s2[i]       # Get the characters of string1 and string2 by index\n",
    "\n",
    "        # If character of the first string is not in the dictionary, it means that it didnt map yet , but\n",
    "        if s1[i] not in dictionary:\n",
    "\n",
    "            # if a character from ch2 is already mapped and it is in the dictionary, then that character is being mapped by two characters from string1 \n",
    "            if ch2 in dictionary.values():\n",
    "                return False\n",
    "\n",
    "            # Otherwise, add the key-value pair to the dictionary\n",
    "            dictionary[ch1] = ch2\n",
    "\n",
    "        # If character of the first string is in the dictionary, it means that it mapped with character from string2, if not... \n",
    "        elif dictionary[ch1] != ch2:\n",
    "            return False    # if not, it means that the first string mapped double character from string2\n",
    "\n",
    "    # If there wasn't any problem in the for loop, so there is a successful one-to-one character mapping \n",
    "    return True\n",
    "\n",
    "\n",
    "# Test 1\n",
    "if one_to_one(s1, s2):\n",
    "    print(f'{s1} and {s2} are Isomorphic')\n",
    "else:\n",
    "    print(f'{s1} and {s2} are NOT Isomorphic')\n",
    "\n",
    "# Test 2\n",
    "if one_to_one(s3, s4):\n",
    "    print(f'{s3} and {s4} are Isomorphic')\n",
    "else:\n",
    "    print(f'{s3} and {s4} are NOT Isomorphic')\n",
    "\n",
    "# Test 3\n",
    "if one_to_one(s5, s6):\n",
    "    print(f'{s5} and {s6} are Isomorphic')\n",
    "else:\n",
    "    print(f'{s5} and {s6} are NOT Isomorphic')\n",
    "\n",
    "    \n"
   ]
  }
 ],
 "metadata": {
  "interpreter": {
   "hash": "0a477e406acbd2e5d181cdd122dfb51ff73acdf0b608e3a81bbfb62ac2a7a365"
  },
  "kernelspec": {
   "display_name": "Python 3.10.2 64-bit",
   "language": "python",
   "name": "python3"
  },
  "language_info": {
   "codemirror_mode": {
    "name": "ipython",
    "version": 3
   },
   "file_extension": ".py",
   "mimetype": "text/x-python",
   "name": "python",
   "nbconvert_exporter": "python",
   "pygments_lexer": "ipython3",
   "version": "3.10.2"
  },
  "orig_nbformat": 4
 },
 "nbformat": 4,
 "nbformat_minor": 2
}
